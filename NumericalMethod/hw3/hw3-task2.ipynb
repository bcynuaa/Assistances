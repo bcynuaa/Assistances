{
 "cells": [
  {
   "attachments": {},
   "cell_type": "markdown",
   "metadata": {},
   "source": [
    "[toc]\n",
    "\n",
    "# homework3 - task2\n",
    "\n",
    "作业要求：\n",
    "\n",
    "<center>\n",
    "<img src=\"assets/0509-task2.jpg\" width=20%>\n",
    "</center>"
   ]
  },
  {
   "cell_type": "code",
   "execution_count": 1,
   "metadata": {},
   "outputs": [],
   "source": [
    "dec = 6 # 设置每一步计算保留小数点后位数（精度，可以自己调整）\n",
    "import numpy as np\n",
    "np.set_printoptions(formatter={'float': ('{: 0.' + str(dec) + 'f}').format})\n",
    "import matplotlib.pyplot as plt\n",
    "import matplotlib as mpl\n",
    "mpl.rcParams['text.usetex'] = True\n",
    "import sympy as sp"
   ]
  },
  {
   "attachments": {},
   "cell_type": "markdown",
   "metadata": {},
   "source": [
    "## 习题3.8"
   ]
  },
  {
   "attachments": {},
   "cell_type": "markdown",
   "metadata": {},
   "source": [
    "### 第一问"
   ]
  },
  {
   "cell_type": "code",
   "execution_count": 13,
   "metadata": {},
   "outputs": [
    {
     "data": {
      "text/latex": [
       "$\\displaystyle \\left[\\begin{matrix}2 & 1 & 2\\\\4 & 3 & 1\\\\6 & 1 & 5\\end{matrix}\\right]$"
      ],
      "text/plain": [
       "Matrix([\n",
       "[2, 1, 2],\n",
       "[4, 3, 1],\n",
       "[6, 1, 5]])"
      ]
     },
     "execution_count": 13,
     "metadata": {},
     "output_type": "execute_result"
    }
   ],
   "source": [
    "A = sp.Matrix([\n",
    "    [2, 1, 2],\n",
    "    [4, 3, 1],\n",
    "    [6, 1, 5]\n",
    "])\n",
    "b = sp.Matrix([6, 11, 13])\n",
    "A"
   ]
  },
  {
   "cell_type": "code",
   "execution_count": 11,
   "metadata": {},
   "outputs": [
    {
     "name": "stdout",
     "output_type": "stream",
     "text": [
      "L=\n"
     ]
    },
    {
     "data": {
      "text/latex": [
       "$\\displaystyle \\left[\\begin{matrix}1 & 0 & 0\\\\2 & 1 & 0\\\\3 & -2 & 1\\end{matrix}\\right]$"
      ],
      "text/plain": [
       "Matrix([\n",
       "[1,  0, 0],\n",
       "[2,  1, 0],\n",
       "[3, -2, 1]])"
      ]
     },
     "execution_count": 11,
     "metadata": {},
     "output_type": "execute_result"
    }
   ],
   "source": [
    "L, U = A.LUdecomposition()[0: 2]\n",
    "print(\"L=\")\n",
    "L"
   ]
  },
  {
   "cell_type": "code",
   "execution_count": 12,
   "metadata": {},
   "outputs": [
    {
     "name": "stdout",
     "output_type": "stream",
     "text": [
      "U=\n"
     ]
    },
    {
     "data": {
      "text/latex": [
       "$\\displaystyle \\left[\\begin{matrix}2 & 1 & 2\\\\0 & 1 & -3\\\\0 & 0 & -7\\end{matrix}\\right]$"
      ],
      "text/plain": [
       "Matrix([\n",
       "[2, 1,  2],\n",
       "[0, 1, -3],\n",
       "[0, 0, -7]])"
      ]
     },
     "execution_count": 12,
     "metadata": {},
     "output_type": "execute_result"
    }
   ],
   "source": [
    "print(\"U=\")\n",
    "U"
   ]
  },
  {
   "cell_type": "code",
   "execution_count": 15,
   "metadata": {},
   "outputs": [
    {
     "name": "stdout",
     "output_type": "stream",
     "text": [
      "Ax=b->x=\n"
     ]
    },
    {
     "data": {
      "text/latex": [
       "$\\displaystyle \\left[\\begin{matrix}1\\\\2\\\\1\\end{matrix}\\right]$"
      ],
      "text/plain": [
       "Matrix([\n",
       "[1],\n",
       "[2],\n",
       "[1]])"
      ]
     },
     "execution_count": 15,
     "metadata": {},
     "output_type": "execute_result"
    }
   ],
   "source": [
    "x = A.solve(b)\n",
    "print(\"Ax=b->x=\")\n",
    "x"
   ]
  },
  {
   "cell_type": "code",
   "execution_count": 16,
   "metadata": {},
   "outputs": [
    {
     "name": "stdout",
     "output_type": "stream",
     "text": [
      "det(U)= -14\n"
     ]
    },
    {
     "data": {
      "text/latex": [
       "$\\displaystyle -14$"
      ],
      "text/plain": [
       "-14"
      ]
     },
     "execution_count": 16,
     "metadata": {},
     "output_type": "execute_result"
    }
   ],
   "source": [
    "det = U.det()\n",
    "print(\"det(U)=\", det)\n",
    "det"
   ]
  },
  {
   "attachments": {},
   "cell_type": "markdown",
   "metadata": {},
   "source": [
    "### 第二问"
   ]
  },
  {
   "cell_type": "code",
   "execution_count": 22,
   "metadata": {},
   "outputs": [
    {
     "data": {
      "text/latex": [
       "$\\displaystyle \\left[\\begin{matrix}2 & 2 & 3\\\\4 & 7 & 7\\\\-2 & 4 & 5\\end{matrix}\\right]$"
      ],
      "text/plain": [
       "Matrix([\n",
       "[ 2, 2, 3],\n",
       "[ 4, 7, 7],\n",
       "[-2, 4, 5]])"
      ]
     },
     "execution_count": 22,
     "metadata": {},
     "output_type": "execute_result"
    }
   ],
   "source": [
    "A = sp.Matrix([\n",
    "    [2, 2, 3],\n",
    "    [4, 7, 7],\n",
    "    [-2, 4, 5]\n",
    "])\n",
    "b = sp.Matrix([3, 1, -7])\n",
    "A"
   ]
  },
  {
   "cell_type": "code",
   "execution_count": 23,
   "metadata": {},
   "outputs": [
    {
     "name": "stdout",
     "output_type": "stream",
     "text": [
      "L=\n"
     ]
    },
    {
     "data": {
      "text/latex": [
       "$\\displaystyle \\left[\\begin{matrix}1 & 0 & 0\\\\2 & 1 & 0\\\\-1 & 2 & 1\\end{matrix}\\right]$"
      ],
      "text/plain": [
       "Matrix([\n",
       "[ 1, 0, 0],\n",
       "[ 2, 1, 0],\n",
       "[-1, 2, 1]])"
      ]
     },
     "execution_count": 23,
     "metadata": {},
     "output_type": "execute_result"
    }
   ],
   "source": [
    "L, U = A.LUdecomposition()[0: 2]\n",
    "print(\"L=\")\n",
    "L"
   ]
  },
  {
   "cell_type": "code",
   "execution_count": 24,
   "metadata": {},
   "outputs": [
    {
     "name": "stdout",
     "output_type": "stream",
     "text": [
      "U=\n"
     ]
    },
    {
     "data": {
      "text/latex": [
       "$\\displaystyle \\left[\\begin{matrix}2 & 2 & 3\\\\0 & 3 & 1\\\\0 & 0 & 6\\end{matrix}\\right]$"
      ],
      "text/plain": [
       "Matrix([\n",
       "[2, 2, 3],\n",
       "[0, 3, 1],\n",
       "[0, 0, 6]])"
      ]
     },
     "execution_count": 24,
     "metadata": {},
     "output_type": "execute_result"
    }
   ],
   "source": [
    "print(\"U=\")\n",
    "U"
   ]
  },
  {
   "cell_type": "code",
   "execution_count": 25,
   "metadata": {},
   "outputs": [
    {
     "name": "stdout",
     "output_type": "stream",
     "text": [
      "Ax=b->x=\n"
     ]
    },
    {
     "data": {
      "text/latex": [
       "$\\displaystyle \\left[\\begin{matrix}2\\\\-2\\\\1\\end{matrix}\\right]$"
      ],
      "text/plain": [
       "Matrix([\n",
       "[ 2],\n",
       "[-2],\n",
       "[ 1]])"
      ]
     },
     "execution_count": 25,
     "metadata": {},
     "output_type": "execute_result"
    }
   ],
   "source": [
    "x = A.solve(b)\n",
    "print(\"Ax=b->x=\")\n",
    "x"
   ]
  },
  {
   "cell_type": "code",
   "execution_count": 26,
   "metadata": {},
   "outputs": [
    {
     "name": "stdout",
     "output_type": "stream",
     "text": [
      "det(U)= 36\n"
     ]
    },
    {
     "data": {
      "text/latex": [
       "$\\displaystyle 36$"
      ],
      "text/plain": [
       "36"
      ]
     },
     "execution_count": 26,
     "metadata": {},
     "output_type": "execute_result"
    }
   ],
   "source": [
    "det = U.det()\n",
    "print(\"det(U)=\", det)\n",
    "det"
   ]
  },
  {
   "attachments": {},
   "cell_type": "markdown",
   "metadata": {},
   "source": [
    "## 习题3.9"
   ]
  },
  {
   "cell_type": "code",
   "execution_count": 30,
   "metadata": {},
   "outputs": [
    {
     "data": {
      "text/latex": [
       "$\\displaystyle \\left[\\begin{matrix}6 & 2 & 1 & -1\\\\2 & 4 & 1 & 0\\\\1 & 1 & 4 & -1\\\\-1 & 0 & -1 & 3\\end{matrix}\\right]$"
      ],
      "text/plain": [
       "Matrix([\n",
       "[ 6, 2,  1, -1],\n",
       "[ 2, 4,  1,  0],\n",
       "[ 1, 1,  4, -1],\n",
       "[-1, 0, -1,  3]])"
      ]
     },
     "execution_count": 30,
     "metadata": {},
     "output_type": "execute_result"
    }
   ],
   "source": [
    "A = sp.Matrix([\n",
    "    [6, 2, 1, -1],\n",
    "    [2, 4, 1, 0],\n",
    "    [1, 1, 4, -1],\n",
    "    [-1, 0, -1, 3]\n",
    "])\n",
    "b = sp.Matrix([6, -1, 5, -5])\n",
    "A"
   ]
  },
  {
   "cell_type": "code",
   "execution_count": 31,
   "metadata": {},
   "outputs": [
    {
     "data": {
      "text/latex": [
       "$\\displaystyle \\left[\\begin{matrix}1 & -1 & 1 & -1\\end{matrix}\\right]$"
      ],
      "text/plain": [
       "Matrix([[1, -1, 1, -1]])"
      ]
     },
     "execution_count": 31,
     "metadata": {},
     "output_type": "execute_result"
    }
   ],
   "source": [
    "x = A.solve(b)\n",
    "x.T"
   ]
  },
  {
   "attachments": {},
   "cell_type": "markdown",
   "metadata": {},
   "source": [
    "## 习题3.10"
   ]
  },
  {
   "attachments": {},
   "cell_type": "markdown",
   "metadata": {},
   "source": [
    "此题中不知道是什么情况，有点奇怪，似乎第一行应该是：\n",
    "\n",
    "$$\n",
    "x_1+2x_2+x_3=3\n",
    "$$\n",
    "\n",
    "而不是\n",
    "\n",
    "$$\n",
    "2x_1+x_2+x_3=3\n",
    "$$\n",
    "\n",
    "这里我都算一下。"
   ]
  },
  {
   "cell_type": "code",
   "execution_count": 41,
   "metadata": {},
   "outputs": [
    {
     "name": "stdout",
     "output_type": "stream",
     "text": [
      "Ax=b->x=\n"
     ]
    },
    {
     "data": {
      "text/latex": [
       "$\\displaystyle \\left[\\begin{matrix}1 & 2 & -2\\end{matrix}\\right]$"
      ],
      "text/plain": [
       "Matrix([[1, 2, -2]])"
      ]
     },
     "execution_count": 41,
     "metadata": {},
     "output_type": "execute_result"
    }
   ],
   "source": [
    "A = sp.Matrix([\n",
    "    [1, 2, 1],\n",
    "    [1, 3, 2],\n",
    "    [1, 2, -3]\n",
    "])\n",
    "b = sp.Matrix([3, 3, 11])\n",
    "x = A.solve(b)\n",
    "print(\"Ax=b->x=\")\n",
    "x.T"
   ]
  },
  {
   "cell_type": "code",
   "execution_count": 42,
   "metadata": {},
   "outputs": [
    {
     "name": "stdout",
     "output_type": "stream",
     "text": [
      "Ax=b->x=\n"
     ]
    },
    {
     "data": {
      "text/latex": [
       "$\\displaystyle \\left[\\begin{matrix}\\frac{35}{22} & \\frac{39}{22} & - \\frac{43}{22}\\end{matrix}\\right]$"
      ],
      "text/plain": [
       "Matrix([[35/22, 39/22, -43/22]])"
      ]
     },
     "execution_count": 42,
     "metadata": {},
     "output_type": "execute_result"
    }
   ],
   "source": [
    "A = sp.Matrix([\n",
    "    [2, 1, 1],\n",
    "    [1, 3, 2],\n",
    "    [1, 2, -3]\n",
    "])\n",
    "b = sp.Matrix([3, 3, 11])\n",
    "x = A.solve(b)\n",
    "print(\"Ax=b->x=\")\n",
    "x.T"
   ]
  },
  {
   "attachments": {},
   "cell_type": "markdown",
   "metadata": {},
   "source": [
    "## 习题3.11\n",
    "\n",
    "参考 `C` 程序可以见文件夹`ThomasMethod`，这里就直接算了。"
   ]
  },
  {
   "cell_type": "code",
   "execution_count": 43,
   "metadata": {},
   "outputs": [
    {
     "name": "stdout",
     "output_type": "stream",
     "text": [
      "Ax=b->x=\n"
     ]
    },
    {
     "data": {
      "text/latex": [
       "$\\displaystyle \\left[\\begin{matrix}0 & 1 & -1 & 2\\end{matrix}\\right]$"
      ],
      "text/plain": [
       "Matrix([[0, 1, -1, 2]])"
      ]
     },
     "execution_count": 43,
     "metadata": {},
     "output_type": "execute_result"
    }
   ],
   "source": [
    "A = sp.Matrix([\n",
    "    [2, 1, 0, 0],\n",
    "    [1, 3, 1, 0],\n",
    "    [0, 1, 1, 1],\n",
    "    [0, 0, 2, 1]\n",
    "])\n",
    "b = sp.Matrix([1, 2, 2, 0])\n",
    "x = A.solve(b)\n",
    "print(\"Ax=b->x=\")\n",
    "x.T"
   ]
  },
  {
   "attachments": {},
   "cell_type": "markdown",
   "metadata": {},
   "source": [
    "## 习题3.14(2)"
   ]
  },
  {
   "cell_type": "code",
   "execution_count": 46,
   "metadata": {},
   "outputs": [
    {
     "name": "stdout",
     "output_type": "stream",
     "text": [
      "Ax=b->x=\n"
     ]
    },
    {
     "data": {
      "text/latex": [
       "$\\displaystyle \\left[\\begin{matrix}\\frac{1}{2} & 1 & \\frac{1}{2}\\end{matrix}\\right]$"
      ],
      "text/plain": [
       "Matrix([[1/2, 1, 1/2]])"
      ]
     },
     "execution_count": 46,
     "metadata": {},
     "output_type": "execute_result"
    }
   ],
   "source": [
    "A = sp.Matrix([\n",
    "    [2, -1, 0],\n",
    "    [-1, 2, -1],\n",
    "    [0, -1, 2]\n",
    "])\n",
    "f = sp.Matrix([0, 1, 0])\n",
    "x = A.solve(f)\n",
    "print(\"Ax=b->x=\")\n",
    "x.T"
   ]
  },
  {
   "attachments": {},
   "cell_type": "markdown",
   "metadata": {},
   "source": [
    "## 习题3.15"
   ]
  },
  {
   "cell_type": "code",
   "execution_count": 54,
   "metadata": {},
   "outputs": [
    {
     "name": "stdout",
     "output_type": "stream",
     "text": [
      "一范数： 9\n",
      "二范数： sqrt(29)\n",
      "无穷范数： 4\n"
     ]
    }
   ],
   "source": [
    "x = sp.Matrix([2, -3, 4])\n",
    "print(\"一范数：\", x.norm(1))\n",
    "print(\"二范数：\", x.norm(2))\n",
    "print(\"无穷范数：\", x.norm(sp.oo))"
   ]
  },
  {
   "cell_type": "code",
   "execution_count": 55,
   "metadata": {},
   "outputs": [
    {
     "name": "stdout",
     "output_type": "stream",
     "text": [
      "一范数： 8\n",
      "二范数： 4*sqrt(2)\n",
      "无穷范数： 6\n"
     ]
    }
   ],
   "source": [
    "A = sp.Matrix([\n",
    "    [1, 0, 0],\n",
    "    [0, 2, 4],\n",
    "    [0, -2, 4]\n",
    "])\n",
    "print(\"一范数：\", A.norm(1))\n",
    "print(\"二范数：\", A.norm(2))\n",
    "print(\"无穷范数：\", A.norm(sp.oo))"
   ]
  },
  {
   "attachments": {},
   "cell_type": "markdown",
   "metadata": {},
   "source": [
    "## 习题3.16\n",
    "\n",
    "前者是的，因为显然其具有：\n",
    "\n",
    "- $f(\\lambda \\vec{x}) = \\lambda f(x)$ ；\n",
    "- $f(x)\\geq 0$，当且仅当 $\\vec{x}=\\vec{0}$ 时取等。\n",
    "\n",
    "后者不是，显然给出一个：\n",
    "\n",
    "$$\n",
    "\\vec{x} = [-3, 1, 0]\n",
    "$$\n",
    "\n",
    "时会让 $f(\\vec{x})=0$ ，非范数。"
   ]
  },
  {
   "attachments": {},
   "cell_type": "markdown",
   "metadata": {},
   "source": [
    "## 补充题目1"
   ]
  },
  {
   "cell_type": "code",
   "execution_count": 56,
   "metadata": {},
   "outputs": [
    {
     "data": {
      "text/latex": [
       "$\\displaystyle \\left[\\begin{matrix}9 & -1 & -6\\end{matrix}\\right]$"
      ],
      "text/plain": [
       "Matrix([[9, -1, -6]])"
      ]
     },
     "execution_count": 56,
     "metadata": {},
     "output_type": "execute_result"
    }
   ],
   "source": [
    "A = sp.Matrix([\n",
    "    [2, -1, 3],\n",
    "    [4, 2, 5],\n",
    "    [1, 2, 0]\n",
    "])\n",
    "b = sp.Matrix([1, 4, 7])\n",
    "x_real = A.solve(b)\n",
    "x_real.T"
   ]
  },
  {
   "attachments": {},
   "cell_type": "markdown",
   "metadata": {},
   "source": [
    "## 补充题目2"
   ]
  },
  {
   "cell_type": "code",
   "execution_count": 63,
   "metadata": {},
   "outputs": [
    {
     "data": {
      "text/latex": [
       "$\\displaystyle \\left[\\begin{matrix}\\frac{41}{193} & \\frac{106}{193} & - \\frac{223}{193}\\end{matrix}\\right]$"
      ],
      "text/plain": [
       "Matrix([[41/193, 106/193, -223/193]])"
      ]
     },
     "execution_count": 63,
     "metadata": {},
     "output_type": "execute_result"
    }
   ],
   "source": [
    "A = sp.Matrix([\n",
    "    [11, -3, -2],\n",
    "    [-23, 11, 1],\n",
    "    [1, 2, 2]\n",
    "])\n",
    "b = sp.Matrix([3, 0, -1])\n",
    "x_real = A.solve(b)\n",
    "x_real.T"
   ]
  },
  {
   "attachments": {},
   "cell_type": "markdown",
   "metadata": {},
   "source": [
    "## 补充题目3"
   ]
  },
  {
   "cell_type": "code",
   "execution_count": 66,
   "metadata": {},
   "outputs": [
    {
     "data": {
      "text/latex": [
       "$\\displaystyle \\left[\\begin{matrix}-2.02856318234611\\\\-1.46287363530778\\\\-1.03314692218351\\\\-0.80595493612079\\\\-0.654522531939605\\end{matrix}\\right]$"
      ],
      "text/plain": [
       "Matrix([\n",
       "[ -2.02856318234611],\n",
       "[ -1.46287363530778],\n",
       "[ -1.03314692218351],\n",
       "[ -0.80595493612079],\n",
       "[-0.654522531939605]])"
      ]
     },
     "execution_count": 66,
     "metadata": {},
     "output_type": "execute_result"
    }
   ],
   "source": [
    "A = sp.Matrix([\n",
    "    [2, 1, 0, 0, 0],\n",
    "    [5/14, 2, 9/14, 0, 0],\n",
    "    [0, 3/5, 2, 2/5, 0],\n",
    "    [0, 0, 3/7, 2, 4/7],\n",
    "    [0, 0, 0, 1, 2]\n",
    "])\n",
    "b = sp.Matrix([-5.5200, -4.3144, -3.2664, -2.4287, -2.1150])\n",
    "x_real = A.solve(b)\n",
    "x_real"
   ]
  },
  {
   "attachments": {},
   "cell_type": "markdown",
   "metadata": {},
   "source": [
    "## 习题3.22"
   ]
  },
  {
   "attachments": {},
   "cell_type": "markdown",
   "metadata": {},
   "source": [
    "### 第一问"
   ]
  },
  {
   "cell_type": "code",
   "execution_count": 57,
   "metadata": {},
   "outputs": [
    {
     "data": {
      "text/latex": [
       "$\\displaystyle \\left[\\begin{matrix}0.23109243697479 & 0.147058823529412 & 0.508403361344538\\end{matrix}\\right]$"
      ],
      "text/plain": [
       "Matrix([[0.23109243697479, 0.147058823529412, 0.508403361344538]])"
      ]
     },
     "execution_count": 57,
     "metadata": {},
     "output_type": "execute_result"
    }
   ],
   "source": [
    "A = sp.Matrix([\n",
    "    [10, -2, -2],\n",
    "    [-2, 10, -1],\n",
    "    [-1, -2, 3]\n",
    "])\n",
    "b = sp.Matrix([1, 1/2, 1])\n",
    "x = A.solve(b)\n",
    "x.T"
   ]
  },
  {
   "attachments": {},
   "cell_type": "markdown",
   "metadata": {},
   "source": [
    "### 第二问"
   ]
  },
  {
   "cell_type": "code",
   "execution_count": 59,
   "metadata": {},
   "outputs": [
    {
     "data": {
      "text/latex": [
       "$\\displaystyle \\left[\\begin{matrix}1 & 2 & -1 & 1\\end{matrix}\\right]$"
      ],
      "text/plain": [
       "Matrix([[1, 2, -1, 1]])"
      ]
     },
     "execution_count": 59,
     "metadata": {},
     "output_type": "execute_result"
    }
   ],
   "source": [
    "A = sp.Matrix([\n",
    "    [10, -1, 2, 0],\n",
    "    [-1, 11, -1, 3],\n",
    "    [2, -1, 10, -1],\n",
    "    [0, 3, -1, 8]\n",
    "])\n",
    "b = sp.Matrix([6, 25, -11, 15])\n",
    "x = A.solve(b)\n",
    "x.T"
   ]
  },
  {
   "attachments": {},
   "cell_type": "markdown",
   "metadata": {},
   "source": [
    "## 习题3.23"
   ]
  },
  {
   "cell_type": "code",
   "execution_count": 60,
   "metadata": {},
   "outputs": [
    {
     "data": {
      "text/latex": [
       "$\\displaystyle \\left[\\begin{matrix}1 & 1 & 1\\end{matrix}\\right]$"
      ],
      "text/plain": [
       "Matrix([[1, 1, 1]])"
      ]
     },
     "execution_count": 60,
     "metadata": {},
     "output_type": "execute_result"
    }
   ],
   "source": [
    "A = sp.Matrix([\n",
    "    [1, 2, -2],\n",
    "    [1, 1, 1],\n",
    "    [2, 2, 1]\n",
    "])\n",
    "b = sp.Matrix([1, 3, 5])\n",
    "x_real = A.solve(b)\n",
    "x_real.T"
   ]
  },
  {
   "attachments": {},
   "cell_type": "markdown",
   "metadata": {},
   "source": [
    "## 习题3.24"
   ]
  },
  {
   "cell_type": "code",
   "execution_count": 61,
   "metadata": {},
   "outputs": [
    {
     "data": {
      "text/latex": [
       "$\\displaystyle \\left[\\begin{matrix}3 & 4 & -5\\end{matrix}\\right]$"
      ],
      "text/plain": [
       "Matrix([[3, 4, -5]])"
      ]
     },
     "execution_count": 61,
     "metadata": {},
     "output_type": "execute_result"
    }
   ],
   "source": [
    "A = sp.Matrix([\n",
    "    [4, 3, 0],\n",
    "    [3, 4, -1],\n",
    "    [0, -1, 4]\n",
    "])\n",
    "b = sp.Matrix([24, 30, -24])\n",
    "x_real = A.solve(b)\n",
    "x_real.T"
   ]
  },
  {
   "attachments": {},
   "cell_type": "markdown",
   "metadata": {},
   "source": [
    "## 习题3.25"
   ]
  },
  {
   "cell_type": "code",
   "execution_count": 62,
   "metadata": {},
   "outputs": [
    {
     "data": {
      "text/latex": [
       "$\\displaystyle \\left[\\begin{matrix}\\frac{6}{5} & \\frac{7}{5} & \\frac{8}{5} & \\frac{4}{5}\\end{matrix}\\right]$"
      ],
      "text/plain": [
       "Matrix([[6/5, 7/5, 8/5, 4/5]])"
      ]
     },
     "execution_count": 62,
     "metadata": {},
     "output_type": "execute_result"
    }
   ],
   "source": [
    "A = sp.Matrix([\n",
    "    [2, -1, 0, 0],\n",
    "    [-1, 2, -1, 0],\n",
    "    [0, -1, 2, -1],\n",
    "    [0, 0, -1, 2]\n",
    "])\n",
    "b = sp.Matrix([1, 0, 1, 0])\n",
    "x_real = A.solve(b)\n",
    "x_real.T"
   ]
  }
 ],
 "metadata": {
  "kernelspec": {
   "display_name": "Python 3",
   "language": "python",
   "name": "python3"
  },
  "language_info": {
   "codemirror_mode": {
    "name": "ipython",
    "version": 3
   },
   "file_extension": ".py",
   "mimetype": "text/x-python",
   "name": "python",
   "nbconvert_exporter": "python",
   "pygments_lexer": "ipython3",
   "version": "3.11.3"
  },
  "orig_nbformat": 4
 },
 "nbformat": 4,
 "nbformat_minor": 2
}
