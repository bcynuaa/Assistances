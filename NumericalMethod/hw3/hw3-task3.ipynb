{
 "cells": [
  {
   "attachments": {},
   "cell_type": "markdown",
   "metadata": {},
   "source": [
    "# hw3-task3\n",
    "\n",
    "- P120，3.8习题，26,27,28,29,30,34\n",
    "- P167，4.9 习题，1,2,3,4,5"
   ]
  },
  {
   "cell_type": "code",
   "execution_count": 1,
   "metadata": {},
   "outputs": [],
   "source": [
    "dec = 6 # 设置每一步计算保留小数点后位数（精度，可以自己调整）\n",
    "import numpy as np\n",
    "np.set_printoptions(formatter={'float': ('{: 0.' + str(dec) + 'f}').format})\n",
    "import matplotlib.pyplot as plt\n",
    "import matplotlib as mpl\n",
    "mpl.rcParams['text.usetex'] = True\n",
    "import sympy as sp"
   ]
  },
  {
   "attachments": {},
   "cell_type": "markdown",
   "metadata": {},
   "source": [
    "## 习题3.26"
   ]
  },
  {
   "cell_type": "code",
   "execution_count": 2,
   "metadata": {},
   "outputs": [
    {
     "data": {
      "text/plain": [
       "[0.900000000000000, 0.800000000000000]"
      ]
     },
     "execution_count": 2,
     "metadata": {},
     "output_type": "execute_result"
    }
   ],
   "source": [
    "J = sp.Matrix([\n",
    "    [0.9, 0],\n",
    "    [0.3, 0.8]\n",
    "])\n",
    "eig_vals = list(J.eigenvals().keys())\n",
    "eig_vals"
   ]
  },
  {
   "cell_type": "code",
   "execution_count": 3,
   "metadata": {},
   "outputs": [
    {
     "name": "stdout",
     "output_type": "stream",
     "text": [
      "收敛，λmax=\n"
     ]
    },
    {
     "data": {
      "text/latex": [
       "$\\displaystyle 0.9$"
      ],
      "text/plain": [
       "0.900000000000000"
      ]
     },
     "execution_count": 3,
     "metadata": {},
     "output_type": "execute_result"
    }
   ],
   "source": [
    "print(\"收敛，λmax=\")\n",
    "max(eig_vals)"
   ]
  },
  {
   "attachments": {},
   "cell_type": "markdown",
   "metadata": {},
   "source": [
    "## 习题3.27\n",
    "\n",
    "### Jacobi"
   ]
  },
  {
   "cell_type": "code",
   "execution_count": 4,
   "metadata": {},
   "outputs": [
    {
     "data": {
      "text/plain": [
       "[-1.00000000000000, 0.500000000000000]"
      ]
     },
     "execution_count": 4,
     "metadata": {},
     "output_type": "execute_result"
    }
   ],
   "source": [
    "J = -sp.Matrix([\n",
    "    [0, 1/2, 1/2],\n",
    "    [1/2, 0, 1/2],\n",
    "    [1/2, 1/2, 0]\n",
    "])\n",
    "eig_vals = list(J.eigenvals().keys())\n",
    "eig_vals"
   ]
  },
  {
   "cell_type": "code",
   "execution_count": 5,
   "metadata": {},
   "outputs": [
    {
     "name": "stdout",
     "output_type": "stream",
     "text": [
      "发散，λmin=\n"
     ]
    },
    {
     "data": {
      "text/latex": [
       "$\\displaystyle -1.0$"
      ],
      "text/plain": [
       "-1.00000000000000"
      ]
     },
     "execution_count": 5,
     "metadata": {},
     "output_type": "execute_result"
    }
   ],
   "source": [
    "print(\"发散，λmin=\")\n",
    "min(eig_vals)"
   ]
  },
  {
   "attachments": {},
   "cell_type": "markdown",
   "metadata": {},
   "source": [
    "### G-S"
   ]
  },
  {
   "cell_type": "code",
   "execution_count": 6,
   "metadata": {},
   "outputs": [
    {
     "data": {
      "text/latex": [
       "$\\displaystyle \\left[\\begin{matrix}0 & -0.5 & -0.5\\\\0 & 0.25 & -0.25\\\\0 & 0.125 & 0.375\\end{matrix}\\right]$"
      ],
      "text/plain": [
       "Matrix([\n",
       "[0,  -0.5,  -0.5],\n",
       "[0,  0.25, -0.25],\n",
       "[0, 0.125, 0.375]])"
      ]
     },
     "execution_count": 6,
     "metadata": {},
     "output_type": "execute_result"
    }
   ],
   "source": [
    "G = J.copy()\n",
    "G[1, 0] = 0\n",
    "G[1, :] += J[1, 0] * J[0, :]\n",
    "G[2, 0] = 0\n",
    "G[2, 1] = 0\n",
    "G[2, :] += J[2, 0] * G[0, :]\n",
    "G[2, :] += J[2, 1] * G[1, :]\n",
    "G"
   ]
  },
  {
   "cell_type": "code",
   "execution_count": 7,
   "metadata": {},
   "outputs": [
    {
     "name": "stdout",
     "output_type": "stream",
     "text": [
      "收敛，ρ(G) =\n"
     ]
    },
    {
     "data": {
      "text/latex": [
       "$\\displaystyle 0.633190229629063$"
      ],
      "text/plain": [
       "0.633190229629063"
      ]
     },
     "execution_count": 7,
     "metadata": {},
     "output_type": "execute_result"
    }
   ],
   "source": [
    "print(\"收敛，ρ(G) =\")\n",
    "max(list((G.T @ G).eigenvals().keys()))"
   ]
  },
  {
   "attachments": {},
   "cell_type": "markdown",
   "metadata": {},
   "source": [
    "## 习题3.28\n",
    "\n",
    "### Jacobi"
   ]
  },
  {
   "cell_type": "code",
   "execution_count": 8,
   "metadata": {},
   "outputs": [
    {
     "name": "stdout",
     "output_type": "stream",
     "text": [
      "特征方程：\n"
     ]
    },
    {
     "data": {
      "text/latex": [
       "$\\displaystyle - \\lambda^{3} - \\frac{\\lambda}{3} - \\frac{2}{3} = 0$"
      ],
      "text/plain": [
       "Eq(-\\lambda**3 - \\lambda/3 - 2/3, 0)"
      ]
     },
     "execution_count": 8,
     "metadata": {},
     "output_type": "execute_result"
    }
   ],
   "source": [
    "J = sp.Matrix([\n",
    "    [0, 0, -1],\n",
    "    [1, 0, 0],\n",
    "    [sp.Rational(1, 3), sp.Rational(2, 3), 0]\n",
    "])\n",
    "lamb = sp.Symbol(\"\\lambda\")\n",
    "J_lamb = J - lamb * sp.eye(3)\n",
    "char_poly = J_lamb.det()\n",
    "char_poly_eq = sp.Eq(char_poly, 0)\n",
    "print(\"特征方程：\")\n",
    "char_poly_eq"
   ]
  },
  {
   "cell_type": "code",
   "execution_count": 9,
   "metadata": {},
   "outputs": [
    {
     "name": "stdout",
     "output_type": "stream",
     "text": [
      "特征值如下：\n"
     ]
    },
    {
     "data": {
      "text/latex": [
       "$\\displaystyle 0.373708 + 0.867355 i$"
      ],
      "text/plain": [
       "0.373708 + 0.867355*I"
      ]
     },
     "execution_count": 9,
     "metadata": {},
     "output_type": "execute_result"
    }
   ],
   "source": [
    "lam = sp.solve(char_poly_eq, lamb)\n",
    "print(\"特征值如下：\")\n",
    "lam[0].evalf(dec)"
   ]
  },
  {
   "cell_type": "code",
   "execution_count": 10,
   "metadata": {},
   "outputs": [
    {
     "data": {
      "text/latex": [
       "$\\displaystyle 0.373708 - 0.867355 i$"
      ],
      "text/plain": [
       "0.373708 - 0.867355*I"
      ]
     },
     "execution_count": 10,
     "metadata": {},
     "output_type": "execute_result"
    }
   ],
   "source": [
    "lam[1].evalf(dec)"
   ]
  },
  {
   "cell_type": "code",
   "execution_count": 11,
   "metadata": {},
   "outputs": [
    {
     "data": {
      "text/latex": [
       "$\\displaystyle -0.747415$"
      ],
      "text/plain": [
       "-0.747415"
      ]
     },
     "execution_count": 11,
     "metadata": {},
     "output_type": "execute_result"
    }
   ],
   "source": [
    "lam[2].evalf(dec)"
   ]
  },
  {
   "cell_type": "code",
   "execution_count": 12,
   "metadata": {},
   "outputs": [
    {
     "name": "stdout",
     "output_type": "stream",
     "text": [
      "收敛，λmax =\n"
     ]
    },
    {
     "data": {
      "text/latex": [
       "$\\displaystyle 0.944438$"
      ],
      "text/plain": [
       "0.944438"
      ]
     },
     "execution_count": 12,
     "metadata": {},
     "output_type": "execute_result"
    }
   ],
   "source": [
    "print(\"收敛，λmax =\")\n",
    "a = lam[0].evalf(dec)\n",
    "sp.Matrix(a.as_real_imag()).norm()"
   ]
  },
  {
   "attachments": {},
   "cell_type": "markdown",
   "metadata": {},
   "source": [
    "### G-S"
   ]
  },
  {
   "cell_type": "code",
   "execution_count": 13,
   "metadata": {},
   "outputs": [
    {
     "data": {
      "text/latex": [
       "$\\displaystyle \\left[\\begin{matrix}0 & 0 & -1\\\\1 & 0 & 0\\\\\\frac{1}{3} & \\frac{2}{3} & 0\\end{matrix}\\right]$"
      ],
      "text/plain": [
       "Matrix([\n",
       "[  0,   0, -1],\n",
       "[  1,   0,  0],\n",
       "[1/3, 2/3,  0]])"
      ]
     },
     "execution_count": 13,
     "metadata": {},
     "output_type": "execute_result"
    }
   ],
   "source": [
    "J"
   ]
  },
  {
   "cell_type": "code",
   "execution_count": 14,
   "metadata": {},
   "outputs": [
    {
     "data": {
      "text/latex": [
       "$\\displaystyle \\left[\\begin{matrix}0 & 0 & -1\\\\0 & 0 & -1\\\\0 & 0 & -1\\end{matrix}\\right]$"
      ],
      "text/plain": [
       "Matrix([\n",
       "[0, 0, -1],\n",
       "[0, 0, -1],\n",
       "[0, 0, -1]])"
      ]
     },
     "execution_count": 14,
     "metadata": {},
     "output_type": "execute_result"
    }
   ],
   "source": [
    "G = J.copy()\n",
    "G[1, 0] = 0\n",
    "G[1, :] += J[1, 0] * J[0, :]\n",
    "G[2, 0] = 0\n",
    "G[2, 1] = 0\n",
    "G[2, :] += J[2, 0] * G[0, :]\n",
    "G[2, :] += J[2, 1] * G[1, :]\n",
    "G"
   ]
  },
  {
   "cell_type": "code",
   "execution_count": 15,
   "metadata": {},
   "outputs": [
    {
     "name": "stdout",
     "output_type": "stream",
     "text": [
      "λ:\n"
     ]
    },
    {
     "data": {
      "text/plain": [
       "[-1, 0]"
      ]
     },
     "execution_count": 15,
     "metadata": {},
     "output_type": "execute_result"
    }
   ],
   "source": [
    "print(\"λ:\")\n",
    "list(G.eigenvals().keys())"
   ]
  },
  {
   "attachments": {},
   "cell_type": "markdown",
   "metadata": {},
   "source": [
    "显然这里是发散的。\n",
    "\n",
    "\n",
    "## 习题3.29"
   ]
  },
  {
   "cell_type": "code",
   "execution_count": 16,
   "metadata": {},
   "outputs": [
    {
     "name": "stdout",
     "output_type": "stream",
     "text": [
      "λ of J:\n"
     ]
    },
    {
     "data": {
      "text/plain": [
       "[0, -0.957427107756338, 0.957427107756338]"
      ]
     },
     "execution_count": 16,
     "metadata": {},
     "output_type": "execute_result"
    }
   ],
   "source": [
    "J = sp.Matrix([\n",
    "    [0, 0, 2/3],\n",
    "    [0, 0, -1/2],\n",
    "    [1, -1/2, 0]\n",
    "])\n",
    "print(\"λ of J:\")\n",
    "list(J.eigenvals().keys())"
   ]
  },
  {
   "cell_type": "code",
   "execution_count": 17,
   "metadata": {},
   "outputs": [
    {
     "data": {
      "text/latex": [
       "$\\displaystyle \\left[\\begin{matrix}0 & 0 & 0.666666666666667\\\\0 & 0 & -0.5\\\\0 & 0 & 0.916666666666667\\end{matrix}\\right]$"
      ],
      "text/plain": [
       "Matrix([\n",
       "[0, 0, 0.666666666666667],\n",
       "[0, 0,              -0.5],\n",
       "[0, 0, 0.916666666666667]])"
      ]
     },
     "execution_count": 17,
     "metadata": {},
     "output_type": "execute_result"
    }
   ],
   "source": [
    "G = J.copy()\n",
    "G[1, 0] = 0\n",
    "G[1, :] += J[1, 0] * J[0, :]\n",
    "G[2, 0] = 0\n",
    "G[2, 1] = 0\n",
    "G[2, :] += J[2, 0] * G[0, :]\n",
    "G[2, :] += J[2, 1] * G[1, :]\n",
    "G"
   ]
  },
  {
   "cell_type": "code",
   "execution_count": 18,
   "metadata": {},
   "outputs": [
    {
     "name": "stdout",
     "output_type": "stream",
     "text": [
      "λ of G:\n"
     ]
    },
    {
     "data": {
      "text/plain": [
       "[0, 0.916666666666667]"
      ]
     },
     "execution_count": 18,
     "metadata": {},
     "output_type": "execute_result"
    }
   ],
   "source": [
    "print(\"λ of G:\")\n",
    "list(G.eigenvals().keys())"
   ]
  },
  {
   "attachments": {},
   "cell_type": "markdown",
   "metadata": {},
   "source": [
    "对比发现而这其实都是收敛的，但G-S似乎收敛的更快。"
   ]
  },
  {
   "attachments": {},
   "cell_type": "markdown",
   "metadata": {},
   "source": [
    "## 习题3.30\n",
    "\n",
    "### 第一问"
   ]
  },
  {
   "cell_type": "code",
   "execution_count": 19,
   "metadata": {},
   "outputs": [
    {
     "data": {
      "text/latex": [
       "$\\displaystyle 0.3$"
      ],
      "text/plain": [
       "0.300000000000000"
      ]
     },
     "execution_count": 19,
     "metadata": {},
     "output_type": "execute_result"
    }
   ],
   "source": [
    "J = sp.Matrix([\n",
    "    [0, 0],\n",
    "    [-0.3, 0]\n",
    "])\n",
    "J.norm()"
   ]
  },
  {
   "attachments": {},
   "cell_type": "markdown",
   "metadata": {},
   "source": [
    "这里 $G$ 和 $J$ 敛散性都一样，都是收敛的。\n",
    "\n",
    "### 第二问"
   ]
  },
  {
   "cell_type": "code",
   "execution_count": 20,
   "metadata": {},
   "outputs": [
    {
     "data": {
      "text/latex": [
       "$\\displaystyle \\left[\\begin{matrix}12 \\alpha + 1 & 0\\\\0.3 \\alpha & \\alpha + 1\\end{matrix}\\right]$"
      ],
      "text/plain": [
       "Matrix([\n",
       "[12*\\alpha + 1,          0],\n",
       "[   0.3*\\alpha, \\alpha + 1]])"
      ]
     },
     "execution_count": 20,
     "metadata": {},
     "output_type": "execute_result"
    }
   ],
   "source": [
    "A = sp.Matrix([\n",
    "    [12, 0],\n",
    "    [0.3, 1]\n",
    "])\n",
    "alpha = sp.Symbol(r\"\\alpha\")\n",
    "J = A * alpha + sp.eye(2)\n",
    "J"
   ]
  },
  {
   "cell_type": "code",
   "execution_count": 21,
   "metadata": {},
   "outputs": [
    {
     "data": {
      "text/latex": [
       "$\\displaystyle 12 \\alpha + 1$"
      ],
      "text/plain": [
       "12*\\alpha + 1"
      ]
     },
     "execution_count": 21,
     "metadata": {},
     "output_type": "execute_result"
    }
   ],
   "source": [
    "lam_list = list(J.eigenvals().keys())\n",
    "lam_list[0]"
   ]
  },
  {
   "cell_type": "code",
   "execution_count": 22,
   "metadata": {},
   "outputs": [
    {
     "data": {
      "text/latex": [
       "$\\displaystyle \\alpha + 1$"
      ],
      "text/plain": [
       "\\alpha + 1"
      ]
     },
     "execution_count": 22,
     "metadata": {},
     "output_type": "execute_result"
    }
   ],
   "source": [
    "lam_list[1]"
   ]
  },
  {
   "attachments": {},
   "cell_type": "markdown",
   "metadata": {},
   "source": [
    "这两个特征值应当都满足在范围 $(-1,1)$ 内，因此自然有：\n",
    "\n",
    "$$\n",
    "-\\frac{1}{6}<\\alpha<0\n",
    "$$"
   ]
  },
  {
   "attachments": {},
   "cell_type": "markdown",
   "metadata": {},
   "source": [
    "## 习题3.31"
   ]
  },
  {
   "cell_type": "code",
   "execution_count": 23,
   "metadata": {},
   "outputs": [
    {
     "data": {
      "text/latex": [
       "$\\displaystyle \\left[\\begin{matrix}2 & -1\\\\1 & \\frac{3}{2}\\end{matrix}\\right]$"
      ],
      "text/plain": [
       "Matrix([\n",
       "[2,  -1],\n",
       "[1, 3/2]])"
      ]
     },
     "execution_count": 23,
     "metadata": {},
     "output_type": "execute_result"
    }
   ],
   "source": [
    "A = sp.Matrix([\n",
    "    [2, -1],\n",
    "    [1, sp.Rational(3, 2)]\n",
    "])\n",
    "A"
   ]
  },
  {
   "cell_type": "code",
   "execution_count": 24,
   "metadata": {},
   "outputs": [
    {
     "data": {
      "text/latex": [
       "$\\displaystyle \\left[\\begin{matrix}0 & \\frac{1}{2}\\\\- \\frac{2}{3} & 0\\end{matrix}\\right]$"
      ],
      "text/plain": [
       "Matrix([\n",
       "[   0, 1/2],\n",
       "[-2/3,   0]])"
      ]
     },
     "execution_count": 24,
     "metadata": {},
     "output_type": "execute_result"
    }
   ],
   "source": [
    "J = A.copy()\n",
    "J[0, :] /= -A[0, 0]\n",
    "J[1, :] /= -A[1, 1]   \n",
    "J[0, 0] = 0\n",
    "J[1, 1] = 0\n",
    "J"
   ]
  },
  {
   "cell_type": "code",
   "execution_count": 25,
   "metadata": {},
   "outputs": [
    {
     "data": {
      "text/latex": [
       "$\\displaystyle \\left[\\begin{matrix}0 & \\frac{1}{2}\\\\0 & - \\frac{1}{3}\\end{matrix}\\right]$"
      ],
      "text/plain": [
       "Matrix([\n",
       "[0,  1/2],\n",
       "[0, -1/3]])"
      ]
     },
     "execution_count": 25,
     "metadata": {},
     "output_type": "execute_result"
    }
   ],
   "source": [
    "G = J.copy()\n",
    "G[1, 0] = 0\n",
    "G[1, :] += J[1, 0] * J[0, :]\n",
    "G"
   ]
  },
  {
   "attachments": {},
   "cell_type": "markdown",
   "metadata": {},
   "source": [
    "## 习题3.34"
   ]
  },
  {
   "cell_type": "code",
   "execution_count": 26,
   "metadata": {},
   "outputs": [
    {
     "data": {
      "text/latex": [
       "$\\displaystyle \\left[\\begin{matrix}0 & \\frac{1}{9} & \\frac{1}{9}\\\\\\frac{1}{8} & 0 & 0\\\\\\frac{1}{9} & 0 & 0\\end{matrix}\\right]$"
      ],
      "text/plain": [
       "Matrix([\n",
       "[  0, 1/9, 1/9],\n",
       "[1/8,   0,   0],\n",
       "[1/9,   0,   0]])"
      ]
     },
     "execution_count": 26,
     "metadata": {},
     "output_type": "execute_result"
    }
   ],
   "source": [
    "J = sp.Matrix([\n",
    "    [0, sp.Rational(1, 9), sp.Rational(1, 9)],\n",
    "    [sp.Rational(1, 8), 0, 0],\n",
    "    [sp.Rational(1, 9), 0, 0]\n",
    "])\n",
    "b = sp.Matrix([\n",
    "    [sp.Rational(7, 9)],\n",
    "    [sp.Rational(7, 8)],\n",
    "    [sp.Rational(8, 9)],\n",
    "])\n",
    "J"
   ]
  },
  {
   "cell_type": "code",
   "execution_count": 27,
   "metadata": {},
   "outputs": [
    {
     "data": {
      "text/latex": [
       "$\\displaystyle \\left[\\begin{matrix}\\frac{7}{9} & \\frac{7}{8} & \\frac{8}{9}\\end{matrix}\\right]$"
      ],
      "text/plain": [
       "Matrix([[7/9, 7/8, 8/9]])"
      ]
     },
     "execution_count": 27,
     "metadata": {},
     "output_type": "execute_result"
    }
   ],
   "source": [
    "b.T"
   ]
  },
  {
   "cell_type": "code",
   "execution_count": 28,
   "metadata": {},
   "outputs": [
    {
     "data": {
      "text/latex": [
       "$\\displaystyle \\left[\\begin{matrix}0 & \\frac{1}{9} & \\frac{1}{9}\\\\0 & \\frac{1}{72} & \\frac{1}{72}\\\\0 & \\frac{1}{81} & \\frac{1}{81}\\end{matrix}\\right]$"
      ],
      "text/plain": [
       "Matrix([\n",
       "[0,  1/9,  1/9],\n",
       "[0, 1/72, 1/72],\n",
       "[0, 1/81, 1/81]])"
      ]
     },
     "execution_count": 28,
     "metadata": {},
     "output_type": "execute_result"
    }
   ],
   "source": [
    "G = J.copy()\n",
    "G[1, 0] = 0\n",
    "G[1, :] += J[1, 0] * J[0, :]\n",
    "G[2, 0] = 0\n",
    "G[2, 1] = 0\n",
    "G[2, :] += J[2, 0] * G[0, :]\n",
    "G[2, :] += J[2, 1] * G[1, :]\n",
    "G"
   ]
  },
  {
   "cell_type": "code",
   "execution_count": 29,
   "metadata": {},
   "outputs": [
    {
     "data": {
      "text/latex": [
       "$\\displaystyle \\left[\\begin{matrix}\\frac{7}{9}\\\\\\frac{35}{36}\\\\\\frac{79}{81}\\end{matrix}\\right]$"
      ],
      "text/plain": [
       "Matrix([\n",
       "[  7/9],\n",
       "[35/36],\n",
       "[79/81]])"
      ]
     },
     "execution_count": 29,
     "metadata": {},
     "output_type": "execute_result"
    }
   ],
   "source": [
    "bG = b.copy()\n",
    "bG[1, 0] += J[1, 0] * bG[0, 0]\n",
    "bG[2, 0] += J[2, 0] * bG[0, 0]\n",
    "bG[2, 0] += J[2, 1] * bG[1, 0]\n",
    "bG"
   ]
  },
  {
   "cell_type": "code",
   "execution_count": 30,
   "metadata": {},
   "outputs": [
    {
     "data": {
      "text/latex": [
       "$\\displaystyle \\left[\\begin{matrix}0\\\\0\\\\0\\end{matrix}\\right]$"
      ],
      "text/plain": [
       "Matrix([\n",
       "[0],\n",
       "[0],\n",
       "[0]])"
      ]
     },
     "execution_count": 30,
     "metadata": {},
     "output_type": "execute_result"
    }
   ],
   "source": [
    "x0 = sp.Matrix([\n",
    "    [0], [0], [0]\n",
    "])\n",
    "x0"
   ]
  },
  {
   "cell_type": "code",
   "execution_count": 31,
   "metadata": {},
   "outputs": [
    {
     "data": {
      "text/latex": [
       "$\\displaystyle \\left[\\begin{matrix}0.999996\\\\1.0\\\\1.0\\end{matrix}\\right]$"
      ],
      "text/plain": [
       "Matrix([\n",
       "[0.999996],\n",
       "[     1.0],\n",
       "[     1.0]])"
      ]
     },
     "execution_count": 31,
     "metadata": {},
     "output_type": "execute_result"
    }
   ],
   "source": [
    "x = x0\n",
    "for i in range(4):\n",
    "    x = G @ x + bG\n",
    "    pass\n",
    "x.evalf(dec)"
   ]
  },
  {
   "attachments": {},
   "cell_type": "markdown",
   "metadata": {},
   "source": [
    "会发现经过四步迭代就已经收敛到解 $[1,1,1]$ 。"
   ]
  }
 ],
 "metadata": {
  "kernelspec": {
   "display_name": "Python 3",
   "language": "python",
   "name": "python3"
  },
  "language_info": {
   "codemirror_mode": {
    "name": "ipython",
    "version": 3
   },
   "file_extension": ".py",
   "mimetype": "text/x-python",
   "name": "python",
   "nbconvert_exporter": "python",
   "pygments_lexer": "ipython3",
   "version": "3.11.3"
  },
  "orig_nbformat": 4
 },
 "nbformat": 4,
 "nbformat_minor": 2
}
