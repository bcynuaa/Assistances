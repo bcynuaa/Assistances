{
 "cells": [
  {
   "attachments": {},
   "cell_type": "markdown",
   "metadata": {},
   "source": [
    "[toc]\n",
    "\n",
    "# hw3-task1\n",
    "\n",
    "> 这里使用了`sympy`进行矩阵的一些运算，个别细节会和作业过程不太一样，但最后的结果应该是没问题的。"
   ]
  },
  {
   "cell_type": "code",
   "execution_count": 1,
   "metadata": {},
   "outputs": [],
   "source": [
    "dec = 6 # 设置每一步计算保留小数点后位数（精度，可以自己调整）\n",
    "import numpy as np\n",
    "np.set_printoptions(formatter={'float': ('{: 0.' + str(dec) + 'f}').format})\n",
    "import matplotlib.pyplot as plt\n",
    "import matplotlib as mpl\n",
    "mpl.rcParams['text.usetex'] = True\n",
    "import sympy as sp"
   ]
  },
  {
   "attachments": {},
   "cell_type": "markdown",
   "metadata": {},
   "source": [
    "## 习题3.1\n",
    "\n",
    "### 第一问"
   ]
  },
  {
   "cell_type": "code",
   "execution_count": 2,
   "metadata": {},
   "outputs": [
    {
     "data": {
      "text/latex": [
       "$\\displaystyle \\left[\\begin{matrix}2 & 1 & 1 & 4\\\\1 & 3 & 2 & 6\\\\1 & 2 & 2 & 5\\end{matrix}\\right]$"
      ],
      "text/plain": [
       "Matrix([\n",
       "[2, 1, 1, 4],\n",
       "[1, 3, 2, 6],\n",
       "[1, 2, 2, 5]])"
      ]
     },
     "execution_count": 2,
     "metadata": {},
     "output_type": "execute_result"
    }
   ],
   "source": [
    "mat_aug = sp.Matrix([\n",
    "    [2, 1, 1, 4],\n",
    "    [1, 3, 2, 6],\n",
    "    [1, 2, 2, 5]\n",
    "])\n",
    "mat_aug"
   ]
  },
  {
   "cell_type": "code",
   "execution_count": 3,
   "metadata": {},
   "outputs": [
    {
     "name": "stdout",
     "output_type": "stream",
     "text": [
      "L：\n"
     ]
    },
    {
     "data": {
      "text/latex": [
       "$\\displaystyle \\left[\\begin{matrix}1 & 0 & 0\\\\\\frac{1}{2} & 1 & 0\\\\\\frac{1}{2} & \\frac{3}{5} & 1\\end{matrix}\\right]$"
      ],
      "text/plain": [
       "Matrix([\n",
       "[  1,   0, 0],\n",
       "[1/2,   1, 0],\n",
       "[1/2, 3/5, 1]])"
      ]
     },
     "execution_count": 3,
     "metadata": {},
     "output_type": "execute_result"
    }
   ],
   "source": [
    "res = mat_aug.LUdecomposition()\n",
    "print(\"L：\")\n",
    "res[0]"
   ]
  },
  {
   "cell_type": "code",
   "execution_count": 4,
   "metadata": {},
   "outputs": [
    {
     "name": "stdout",
     "output_type": "stream",
     "text": [
      "U:\n"
     ]
    },
    {
     "data": {
      "text/latex": [
       "$\\displaystyle \\left[\\begin{matrix}2 & 1 & 1 & 4\\\\0 & \\frac{5}{2} & \\frac{3}{2} & 4\\\\0 & 0 & \\frac{3}{5} & \\frac{3}{5}\\end{matrix}\\right]$"
      ],
      "text/plain": [
       "Matrix([\n",
       "[2,   1,   1,   4],\n",
       "[0, 5/2, 3/2,   4],\n",
       "[0,   0, 3/5, 3/5]])"
      ]
     },
     "execution_count": 4,
     "metadata": {},
     "output_type": "execute_result"
    }
   ],
   "source": [
    "print(\"U:\")\n",
    "res[1]"
   ]
  },
  {
   "cell_type": "code",
   "execution_count": 5,
   "metadata": {},
   "outputs": [
    {
     "name": "stdout",
     "output_type": "stream",
     "text": [
      "result: x is\n"
     ]
    },
    {
     "data": {
      "text/latex": [
       "$\\displaystyle \\left[\\begin{matrix}1\\\\1\\\\1\\end{matrix}\\right]$"
      ],
      "text/plain": [
       "Matrix([\n",
       "[1],\n",
       "[1],\n",
       "[1]])"
      ]
     },
     "execution_count": 5,
     "metadata": {},
     "output_type": "execute_result"
    }
   ],
   "source": [
    "x = mat_aug[0:3, 0:3].QRsolve(mat_aug[0:3, -1])\n",
    "print(\"result: x is\")\n",
    "x"
   ]
  },
  {
   "cell_type": "code",
   "execution_count": 6,
   "metadata": {},
   "outputs": [
    {
     "name": "stdout",
     "output_type": "stream",
     "text": [
      "检验：\n"
     ]
    },
    {
     "data": {
      "text/latex": [
       "$\\displaystyle \\left[\\begin{matrix}2 & 1 & 1 & 4\\\\1 & 3 & 2 & 6\\\\1 & 2 & 2 & 5\\end{matrix}\\right]$"
      ],
      "text/plain": [
       "Matrix([\n",
       "[2, 1, 1, 4],\n",
       "[1, 3, 2, 6],\n",
       "[1, 2, 2, 5]])"
      ]
     },
     "execution_count": 6,
     "metadata": {},
     "output_type": "execute_result"
    }
   ],
   "source": [
    "print(\"检验：\")\n",
    "res[0] @ res[1]"
   ]
  },
  {
   "attachments": {},
   "cell_type": "markdown",
   "metadata": {},
   "source": [
    "### 第二问"
   ]
  },
  {
   "cell_type": "code",
   "execution_count": 7,
   "metadata": {},
   "outputs": [
    {
     "data": {
      "text/latex": [
       "$\\displaystyle \\left[\\begin{matrix}3 & 2 & -7 & -4\\\\8 & 2 & -3 & -5\\\\4 & 6 & -1 & 13\\end{matrix}\\right]$"
      ],
      "text/plain": [
       "Matrix([\n",
       "[3, 2, -7, -4],\n",
       "[8, 2, -3, -5],\n",
       "[4, 6, -1, 13]])"
      ]
     },
     "execution_count": 7,
     "metadata": {},
     "output_type": "execute_result"
    }
   ],
   "source": [
    "mat_aug = sp.Matrix([\n",
    "    [3, 2, -7, -4],\n",
    "    [8, 2, -3, -5],\n",
    "    [4, 6, -1, 13]\n",
    "])\n",
    "mat_aug"
   ]
  },
  {
   "cell_type": "code",
   "execution_count": 8,
   "metadata": {},
   "outputs": [
    {
     "name": "stdout",
     "output_type": "stream",
     "text": [
      "L：\n"
     ]
    },
    {
     "data": {
      "text/latex": [
       "$\\displaystyle \\left[\\begin{matrix}1 & 0 & 0\\\\\\frac{8}{3} & 1 & 0\\\\\\frac{4}{3} & -1 & 1\\end{matrix}\\right]$"
      ],
      "text/plain": [
       "Matrix([\n",
       "[  1,  0, 0],\n",
       "[8/3,  1, 0],\n",
       "[4/3, -1, 1]])"
      ]
     },
     "execution_count": 8,
     "metadata": {},
     "output_type": "execute_result"
    }
   ],
   "source": [
    "res = mat_aug.LUdecomposition()\n",
    "print(\"L：\")\n",
    "res[0]"
   ]
  },
  {
   "cell_type": "code",
   "execution_count": 9,
   "metadata": {},
   "outputs": [
    {
     "name": "stdout",
     "output_type": "stream",
     "text": [
      "U:\n"
     ]
    },
    {
     "data": {
      "text/latex": [
       "$\\displaystyle \\left[\\begin{matrix}3 & 2 & -7 & -4\\\\0 & - \\frac{10}{3} & \\frac{47}{3} & \\frac{17}{3}\\\\0 & 0 & 24 & 24\\end{matrix}\\right]$"
      ],
      "text/plain": [
       "Matrix([\n",
       "[3,     2,   -7,   -4],\n",
       "[0, -10/3, 47/3, 17/3],\n",
       "[0,     0,   24,   24]])"
      ]
     },
     "execution_count": 9,
     "metadata": {},
     "output_type": "execute_result"
    }
   ],
   "source": [
    "print(\"U:\")\n",
    "res[1]"
   ]
  },
  {
   "cell_type": "code",
   "execution_count": 10,
   "metadata": {},
   "outputs": [
    {
     "name": "stdout",
     "output_type": "stream",
     "text": [
      "result: x is\n"
     ]
    },
    {
     "data": {
      "text/latex": [
       "$\\displaystyle \\left[\\begin{matrix}-1\\\\3\\\\1\\end{matrix}\\right]$"
      ],
      "text/plain": [
       "Matrix([\n",
       "[-1],\n",
       "[ 3],\n",
       "[ 1]])"
      ]
     },
     "execution_count": 10,
     "metadata": {},
     "output_type": "execute_result"
    }
   ],
   "source": [
    "x = mat_aug[0:3, 0:3].QRsolve(mat_aug[0:3, -1])\n",
    "print(\"result: x is\")\n",
    "x"
   ]
  },
  {
   "cell_type": "code",
   "execution_count": 11,
   "metadata": {},
   "outputs": [
    {
     "name": "stdout",
     "output_type": "stream",
     "text": [
      "检验：\n"
     ]
    },
    {
     "data": {
      "text/latex": [
       "$\\displaystyle \\left[\\begin{matrix}3 & 2 & -7 & -4\\\\8 & 2 & -3 & -5\\\\4 & 6 & -1 & 13\\end{matrix}\\right]$"
      ],
      "text/plain": [
       "Matrix([\n",
       "[3, 2, -7, -4],\n",
       "[8, 2, -3, -5],\n",
       "[4, 6, -1, 13]])"
      ]
     },
     "execution_count": 11,
     "metadata": {},
     "output_type": "execute_result"
    }
   ],
   "source": [
    "print(\"检验：\")\n",
    "res[0] @ res[1]"
   ]
  },
  {
   "attachments": {},
   "cell_type": "markdown",
   "metadata": {},
   "source": [
    "## 习题3.2"
   ]
  },
  {
   "attachments": {},
   "cell_type": "markdown",
   "metadata": {},
   "source": [
    "### 第一问"
   ]
  },
  {
   "cell_type": "code",
   "execution_count": 12,
   "metadata": {},
   "outputs": [
    {
     "data": {
      "text/latex": [
       "$\\displaystyle \\left[\\begin{matrix}3 & 4 & -3 & 10\\\\3 & -2 & 4 & 11\\\\2 & -1 & -1 & 4\\end{matrix}\\right]$"
      ],
      "text/plain": [
       "Matrix([\n",
       "[3,  4, -3, 10],\n",
       "[3, -2,  4, 11],\n",
       "[2, -1, -1,  4]])"
      ]
     },
     "execution_count": 12,
     "metadata": {},
     "output_type": "execute_result"
    }
   ],
   "source": [
    "mat_aug = sp.Matrix([\n",
    "    [3, 4, -3, 10],\n",
    "    [3, -2, 4, 11],\n",
    "    [2, -1, -1, 4]\n",
    "])\n",
    "mat_aug"
   ]
  },
  {
   "cell_type": "code",
   "execution_count": 13,
   "metadata": {},
   "outputs": [
    {
     "name": "stdout",
     "output_type": "stream",
     "text": [
      "L:\n"
     ]
    },
    {
     "data": {
      "text/latex": [
       "$\\displaystyle \\left[\\begin{matrix}1 & 0 & 0\\\\1 & 1 & 0\\\\\\frac{2}{3} & \\frac{11}{18} & 1\\end{matrix}\\right]$"
      ],
      "text/plain": [
       "Matrix([\n",
       "[  1,     0, 0],\n",
       "[  1,     1, 0],\n",
       "[2/3, 11/18, 1]])"
      ]
     },
     "execution_count": 13,
     "metadata": {},
     "output_type": "execute_result"
    }
   ],
   "source": [
    "res = mat_aug.LUdecomposition()\n",
    "print(\"L:\")\n",
    "res[0]"
   ]
  },
  {
   "cell_type": "code",
   "execution_count": 14,
   "metadata": {},
   "outputs": [
    {
     "name": "stdout",
     "output_type": "stream",
     "text": [
      "U:\n"
     ]
    },
    {
     "data": {
      "text/latex": [
       "$\\displaystyle \\left[\\begin{matrix}3 & 4 & -3 & 10\\\\0 & -6 & 7 & 1\\\\0 & 0 & - \\frac{59}{18} & - \\frac{59}{18}\\end{matrix}\\right]$"
      ],
      "text/plain": [
       "Matrix([\n",
       "[3,  4,     -3,     10],\n",
       "[0, -6,      7,      1],\n",
       "[0,  0, -59/18, -59/18]])"
      ]
     },
     "execution_count": 14,
     "metadata": {},
     "output_type": "execute_result"
    }
   ],
   "source": [
    "print(\"U:\")\n",
    "res[1]"
   ]
  },
  {
   "cell_type": "code",
   "execution_count": 15,
   "metadata": {},
   "outputs": [
    {
     "name": "stdout",
     "output_type": "stream",
     "text": [
      "result: x is\n"
     ]
    },
    {
     "data": {
      "text/latex": [
       "$\\displaystyle \\left[\\begin{matrix}3\\\\1\\\\1\\end{matrix}\\right]$"
      ],
      "text/plain": [
       "Matrix([\n",
       "[3],\n",
       "[1],\n",
       "[1]])"
      ]
     },
     "execution_count": 15,
     "metadata": {},
     "output_type": "execute_result"
    }
   ],
   "source": [
    "x = mat_aug[0:3, 0:3].QRsolve(mat_aug[0:3, -1])\n",
    "print(\"result: x is\")\n",
    "x"
   ]
  },
  {
   "cell_type": "code",
   "execution_count": 16,
   "metadata": {},
   "outputs": [
    {
     "name": "stdout",
     "output_type": "stream",
     "text": [
      "检验：\n"
     ]
    },
    {
     "data": {
      "text/latex": [
       "$\\displaystyle \\left[\\begin{matrix}3 & 4 & -3 & 10\\\\3 & -2 & 4 & 11\\\\2 & -1 & -1 & 4\\end{matrix}\\right]$"
      ],
      "text/plain": [
       "Matrix([\n",
       "[3,  4, -3, 10],\n",
       "[3, -2,  4, 11],\n",
       "[2, -1, -1,  4]])"
      ]
     },
     "execution_count": 16,
     "metadata": {},
     "output_type": "execute_result"
    }
   ],
   "source": [
    "print(\"检验：\")\n",
    "res[0] @ res[1]"
   ]
  },
  {
   "cell_type": "code",
   "execution_count": 17,
   "metadata": {},
   "outputs": [
    {
     "name": "stdout",
     "output_type": "stream",
     "text": [
      "det 值：\n",
      "59\n"
     ]
    }
   ],
   "source": [
    "print(\"det 值：\")\n",
    "print(mat_aug[0:3, 0:3].det())"
   ]
  },
  {
   "attachments": {},
   "cell_type": "markdown",
   "metadata": {},
   "source": [
    "### 第二问"
   ]
  },
  {
   "cell_type": "code",
   "execution_count": 18,
   "metadata": {},
   "outputs": [
    {
     "data": {
      "text/latex": [
       "$\\displaystyle \\left[\\begin{matrix}-18 & 3 & -1 & -1 & -15\\\\12 & -3 & 3 & 4 & 15\\\\3 & 1 & -1 & 1 & 2\\\\1 & 1 & 1 & 1 & 6\\end{matrix}\\right]$"
      ],
      "text/plain": [
       "Matrix([\n",
       "[-18,  3, -1, -1, -15],\n",
       "[ 12, -3,  3,  4,  15],\n",
       "[  3,  1, -1,  1,   2],\n",
       "[  1,  1,  1,  1,   6]])"
      ]
     },
     "execution_count": 18,
     "metadata": {},
     "output_type": "execute_result"
    }
   ],
   "source": [
    "mat_aug = sp.Matrix([\n",
    "    [-18, 3, -1, -1, -15],\n",
    "    [12, -3, 3, 4, 15],\n",
    "    [3, 1, -1, 1, 2],\n",
    "    [1, 1, 1, 1, 6]\n",
    "])\n",
    "mat_aug"
   ]
  },
  {
   "cell_type": "code",
   "execution_count": 19,
   "metadata": {},
   "outputs": [
    {
     "name": "stdout",
     "output_type": "stream",
     "text": [
      "L:\n"
     ]
    },
    {
     "data": {
      "text/latex": [
       "$\\displaystyle \\left[\\begin{matrix}1 & 0 & 0 & 0\\\\- \\frac{2}{3} & 1 & 0 & 0\\\\- \\frac{1}{6} & - \\frac{3}{2} & 1 & 0\\\\- \\frac{1}{18} & - \\frac{7}{6} & \\frac{11}{7} & 1\\end{matrix}\\right]$"
      ],
      "text/plain": [
       "Matrix([\n",
       "[    1,    0,    0, 0],\n",
       "[ -2/3,    1,    0, 0],\n",
       "[ -1/6, -3/2,    1, 0],\n",
       "[-1/18, -7/6, 11/7, 1]])"
      ]
     },
     "execution_count": 19,
     "metadata": {},
     "output_type": "execute_result"
    }
   ],
   "source": [
    "res = mat_aug.LUdecomposition()\n",
    "print(\"L:\")\n",
    "res[0]"
   ]
  },
  {
   "cell_type": "code",
   "execution_count": 20,
   "metadata": {},
   "outputs": [
    {
     "name": "stdout",
     "output_type": "stream",
     "text": [
      "U:\n"
     ]
    },
    {
     "data": {
      "text/latex": [
       "$\\displaystyle \\left[\\begin{matrix}-18 & 3 & -1 & -1 & -15\\\\0 & -1 & \\frac{7}{3} & \\frac{10}{3} & 5\\\\0 & 0 & \\frac{7}{3} & \\frac{35}{6} & 7\\\\0 & 0 & 0 & - \\frac{13}{3} & 0\\end{matrix}\\right]$"
      ],
      "text/plain": [
       "Matrix([\n",
       "[-18,  3,  -1,    -1, -15],\n",
       "[  0, -1, 7/3,  10/3,   5],\n",
       "[  0,  0, 7/3,  35/6,   7],\n",
       "[  0,  0,   0, -13/3,   0]])"
      ]
     },
     "execution_count": 20,
     "metadata": {},
     "output_type": "execute_result"
    }
   ],
   "source": [
    "print(\"U:\")\n",
    "res[1]"
   ]
  },
  {
   "cell_type": "code",
   "execution_count": 21,
   "metadata": {},
   "outputs": [
    {
     "name": "stdout",
     "output_type": "stream",
     "text": [
      "result: x is\n"
     ]
    },
    {
     "data": {
      "text/latex": [
       "$\\displaystyle \\left[\\begin{matrix}1\\\\2\\\\3\\\\0\\end{matrix}\\right]$"
      ],
      "text/plain": [
       "Matrix([\n",
       "[1],\n",
       "[2],\n",
       "[3],\n",
       "[0]])"
      ]
     },
     "execution_count": 21,
     "metadata": {},
     "output_type": "execute_result"
    }
   ],
   "source": [
    "x = mat_aug[0:4, 0:4].QRsolve(mat_aug[0:4, -1])\n",
    "print(\"result: x is\")\n",
    "x"
   ]
  },
  {
   "cell_type": "code",
   "execution_count": 22,
   "metadata": {},
   "outputs": [
    {
     "name": "stdout",
     "output_type": "stream",
     "text": [
      "检验：\n"
     ]
    },
    {
     "data": {
      "text/latex": [
       "$\\displaystyle \\left[\\begin{matrix}-18 & 3 & -1 & -1 & -15\\\\12 & -3 & 3 & 4 & 15\\\\3 & 1 & -1 & 1 & 2\\\\1 & 1 & 1 & 1 & 6\\end{matrix}\\right]$"
      ],
      "text/plain": [
       "Matrix([\n",
       "[-18,  3, -1, -1, -15],\n",
       "[ 12, -3,  3,  4,  15],\n",
       "[  3,  1, -1,  1,   2],\n",
       "[  1,  1,  1,  1,   6]])"
      ]
     },
     "execution_count": 22,
     "metadata": {},
     "output_type": "execute_result"
    }
   ],
   "source": [
    "print(\"检验：\")\n",
    "res[0] @ res[1]"
   ]
  },
  {
   "cell_type": "code",
   "execution_count": 23,
   "metadata": {},
   "outputs": [
    {
     "name": "stdout",
     "output_type": "stream",
     "text": [
      "det 值：\n",
      "-182\n"
     ]
    }
   ],
   "source": [
    "print(\"det 值：\")\n",
    "print(mat_aug[0:4, 0:4].det())"
   ]
  },
  {
   "attachments": {},
   "cell_type": "markdown",
   "metadata": {},
   "source": [
    "**这里需要注意的是：事实上选主元这个过程会做一次“行变换”，会对最后的 det 值产生影响，一定要注意自己在选主元过程中对行变换操纵的次数！**"
   ]
  },
  {
   "attachments": {},
   "cell_type": "markdown",
   "metadata": {},
   "source": [
    "## 习题3.4"
   ]
  },
  {
   "cell_type": "code",
   "execution_count": 24,
   "metadata": {},
   "outputs": [
    {
     "data": {
      "text/latex": [
       "$\\displaystyle \\left[\\begin{matrix}0.002 & 87.13 & 87.15\\\\4.453 & -7.26 & 37.27\\end{matrix}\\right]$"
      ],
      "text/plain": [
       "Matrix([\n",
       "[0.002, 87.13, 87.15],\n",
       "[4.453, -7.26, 37.27]])"
      ]
     },
     "execution_count": 24,
     "metadata": {},
     "output_type": "execute_result"
    }
   ],
   "source": [
    "mat_aug = sp.Matrix([\n",
    "    [0.002, 87.13, 87.15],\n",
    "    [4.453, -7.26, 37.27]\n",
    "])\n",
    "mat_aug"
   ]
  },
  {
   "cell_type": "code",
   "execution_count": 25,
   "metadata": {},
   "outputs": [
    {
     "name": "stdout",
     "output_type": "stream",
     "text": [
      "L:\n"
     ]
    },
    {
     "data": {
      "text/latex": [
       "$\\displaystyle \\left[\\begin{matrix}1 & 0\\\\2226.5 & 1\\end{matrix}\\right]$"
      ],
      "text/plain": [
       "Matrix([\n",
       "[     1, 0],\n",
       "[2226.5, 1]])"
      ]
     },
     "execution_count": 25,
     "metadata": {},
     "output_type": "execute_result"
    }
   ],
   "source": [
    "res = mat_aug.LUdecomposition()\n",
    "print(\"L:\")\n",
    "res[0]"
   ]
  },
  {
   "cell_type": "code",
   "execution_count": 26,
   "metadata": {},
   "outputs": [
    {
     "name": "stdout",
     "output_type": "stream",
     "text": [
      "U:\n"
     ]
    },
    {
     "data": {
      "text/latex": [
       "$\\displaystyle \\left[\\begin{matrix}0.002 & 87.13 & 87.15\\\\0 & -194002.205 & -194002.205\\end{matrix}\\right]$"
      ],
      "text/plain": [
       "Matrix([\n",
       "[0.002,       87.13,       87.15],\n",
       "[    0, -194002.205, -194002.205]])"
      ]
     },
     "execution_count": 26,
     "metadata": {},
     "output_type": "execute_result"
    }
   ],
   "source": [
    "print(\"U:\")\n",
    "res[1]"
   ]
  },
  {
   "cell_type": "code",
   "execution_count": 27,
   "metadata": {},
   "outputs": [
    {
     "name": "stdout",
     "output_type": "stream",
     "text": [
      "result: x is\n"
     ]
    },
    {
     "data": {
      "text/latex": [
       "$\\displaystyle \\left[\\begin{matrix}10.0\\\\1.0\\end{matrix}\\right]$"
      ],
      "text/plain": [
       "Matrix([\n",
       "[10.0],\n",
       "[ 1.0]])"
      ]
     },
     "execution_count": 27,
     "metadata": {},
     "output_type": "execute_result"
    }
   ],
   "source": [
    "x = mat_aug[0:2, 0:2].QRsolve(mat_aug[0:2, -1])\n",
    "print(\"result: x is\")\n",
    "x"
   ]
  },
  {
   "attachments": {},
   "cell_type": "markdown",
   "metadata": {},
   "source": [
    "> 理论上这个矩阵是病态的，`sympy`处理的比较好，可以规避这个问题。一般来讲在矩阵对角占优的情形下，在**规定的有效数字位数**情形下，可以获取比非对角占优更好的数值解，这里就不做展示了。在后续的学习中经常性的会遇到“对角占优的矩阵”。"
   ]
  },
  {
   "attachments": {},
   "cell_type": "markdown",
   "metadata": {},
   "source": [
    "## 习题3.5"
   ]
  },
  {
   "cell_type": "code",
   "execution_count": 28,
   "metadata": {},
   "outputs": [
    {
     "data": {
      "text/latex": [
       "$\\displaystyle \\left[\\begin{matrix}1.0 \\cdot 10^{-8} & 2 & 3\\\\-1 & 3.712 & 4.623\\\\-2 & 1.072 & 5.643\\end{matrix}\\right]$"
      ],
      "text/plain": [
       "Matrix([\n",
       "[1.0e-8,     2,     3],\n",
       "[    -1, 3.712, 4.623],\n",
       "[    -2, 1.072, 5.643]])"
      ]
     },
     "execution_count": 28,
     "metadata": {},
     "output_type": "execute_result"
    }
   ],
   "source": [
    "mat_aug = sp.Matrix([\n",
    "    [1e-8, 2, 3],\n",
    "    [-1, 3.712, 4.623],\n",
    "    [-2, 1.072, 5.643]\n",
    "])\n",
    "mat_aug"
   ]
  },
  {
   "cell_type": "code",
   "execution_count": 29,
   "metadata": {},
   "outputs": [
    {
     "name": "stdout",
     "output_type": "stream",
     "text": [
      "det 值：\n"
     ]
    },
    {
     "data": {
      "text/latex": [
       "$\\displaystyle 11.8500001599096$"
      ],
      "text/plain": [
       "11.8500001599096"
      ]
     },
     "execution_count": 29,
     "metadata": {},
     "output_type": "execute_result"
    }
   ],
   "source": [
    "print(\"det 值：\")\n",
    "mat_aug.det()"
   ]
  },
  {
   "attachments": {},
   "cell_type": "markdown",
   "metadata": {},
   "source": [
    "## 习题3.6"
   ]
  },
  {
   "cell_type": "code",
   "execution_count": 30,
   "metadata": {},
   "outputs": [
    {
     "data": {
      "text/latex": [
       "$\\displaystyle \\left[\\begin{matrix}1 & 1 & -1 & 1 & 0 & 0\\\\2 & 1 & 0 & 0 & 1 & 0\\\\1 & -1 & 0 & 0 & 0 & 1\\end{matrix}\\right]$"
      ],
      "text/plain": [
       "Matrix([\n",
       "[1,  1, -1, 1, 0, 0],\n",
       "[2,  1,  0, 0, 1, 0],\n",
       "[1, -1,  0, 0, 0, 1]])"
      ]
     },
     "execution_count": 30,
     "metadata": {},
     "output_type": "execute_result"
    }
   ],
   "source": [
    "mat_aug = sp.Matrix([\n",
    "    [1, 1, -1, 1, 0, 0],\n",
    "    [2, 1, 0, 0, 1, 0],\n",
    "    [1, -1, 0, 0, 0, 1]\n",
    "])\n",
    "mat_aug"
   ]
  },
  {
   "attachments": {},
   "cell_type": "markdown",
   "metadata": {},
   "source": [
    "接下来是矩阵计算的详细步骤："
   ]
  },
  {
   "cell_type": "code",
   "execution_count": 38,
   "metadata": {},
   "outputs": [
    {
     "data": {
      "text/latex": [
       "$\\displaystyle \\left[\\begin{matrix}1 & 1 & -1 & 1 & 0 & 0\\\\2 & 1 & 0 & 0 & 1 & 0\\\\1 & -1 & 0 & 0 & 0 & 1\\end{matrix}\\right]$"
      ],
      "text/plain": [
       "Matrix([\n",
       "[1,  1, -1, 1, 0, 0],\n",
       "[2,  1,  0, 0, 1, 0],\n",
       "[1, -1,  0, 0, 0, 1]])"
      ]
     },
     "execution_count": 38,
     "metadata": {},
     "output_type": "execute_result"
    }
   ],
   "source": [
    "mat = mat_aug.copy()\n",
    "mat"
   ]
  },
  {
   "cell_type": "code",
   "execution_count": 39,
   "metadata": {},
   "outputs": [
    {
     "data": {
      "text/latex": [
       "$\\displaystyle \\left[\\begin{matrix}1 & 1 & -1 & 1 & 0 & 0\\\\0 & -1 & 2 & -2 & 1 & 0\\\\1 & -1 & 0 & 0 & 0 & 1\\end{matrix}\\right]$"
      ],
      "text/plain": [
       "Matrix([\n",
       "[1,  1, -1,  1, 0, 0],\n",
       "[0, -1,  2, -2, 1, 0],\n",
       "[1, -1,  0,  0, 0, 1]])"
      ]
     },
     "execution_count": 39,
     "metadata": {},
     "output_type": "execute_result"
    }
   ],
   "source": [
    "mat[1, :] -= mat[0, :]*2\n",
    "mat"
   ]
  },
  {
   "cell_type": "code",
   "execution_count": 40,
   "metadata": {},
   "outputs": [
    {
     "data": {
      "text/latex": [
       "$\\displaystyle \\left[\\begin{matrix}1 & 1 & -1 & 1 & 0 & 0\\\\0 & -1 & 2 & -2 & 1 & 0\\\\0 & -2 & 1 & -1 & 0 & 1\\end{matrix}\\right]$"
      ],
      "text/plain": [
       "Matrix([\n",
       "[1,  1, -1,  1, 0, 0],\n",
       "[0, -1,  2, -2, 1, 0],\n",
       "[0, -2,  1, -1, 0, 1]])"
      ]
     },
     "execution_count": 40,
     "metadata": {},
     "output_type": "execute_result"
    }
   ],
   "source": [
    "mat[2, :] -= mat[0, :]\n",
    "mat"
   ]
  },
  {
   "cell_type": "code",
   "execution_count": 41,
   "metadata": {},
   "outputs": [
    {
     "data": {
      "text/latex": [
       "$\\displaystyle \\left[\\begin{matrix}1 & 1 & -1 & 1 & 0 & 0\\\\0 & 1 & -2 & 2 & -1 & 0\\\\0 & 2 & -1 & 1 & 0 & -1\\end{matrix}\\right]$"
      ],
      "text/plain": [
       "Matrix([\n",
       "[1, 1, -1, 1,  0,  0],\n",
       "[0, 1, -2, 2, -1,  0],\n",
       "[0, 2, -1, 1,  0, -1]])"
      ]
     },
     "execution_count": 41,
     "metadata": {},
     "output_type": "execute_result"
    }
   ],
   "source": [
    "mat[1, :] *= -1\n",
    "mat[2, :] *= -1\n",
    "mat"
   ]
  },
  {
   "cell_type": "code",
   "execution_count": 42,
   "metadata": {},
   "outputs": [
    {
     "data": {
      "text/latex": [
       "$\\displaystyle \\left[\\begin{matrix}1 & 1 & -1 & 1 & 0 & 0\\\\0 & 1 & -2 & 2 & -1 & 0\\\\0 & 0 & 3 & -3 & 2 & -1\\end{matrix}\\right]$"
      ],
      "text/plain": [
       "Matrix([\n",
       "[1, 1, -1,  1,  0,  0],\n",
       "[0, 1, -2,  2, -1,  0],\n",
       "[0, 0,  3, -3,  2, -1]])"
      ]
     },
     "execution_count": 42,
     "metadata": {},
     "output_type": "execute_result"
    }
   ],
   "source": [
    "mat[2, :] -= mat[1, :] * 2\n",
    "mat"
   ]
  },
  {
   "cell_type": "code",
   "execution_count": 43,
   "metadata": {},
   "outputs": [
    {
     "data": {
      "text/latex": [
       "$\\displaystyle \\left[\\begin{matrix}1 & 1 & -1 & 1 & 0 & 0\\\\0 & 1 & -2 & 2 & -1 & 0\\\\0 & 0 & 1 & -1 & \\frac{2}{3} & - \\frac{1}{3}\\end{matrix}\\right]$"
      ],
      "text/plain": [
       "Matrix([\n",
       "[1, 1, -1,  1,   0,    0],\n",
       "[0, 1, -2,  2,  -1,    0],\n",
       "[0, 0,  1, -1, 2/3, -1/3]])"
      ]
     },
     "execution_count": 43,
     "metadata": {},
     "output_type": "execute_result"
    }
   ],
   "source": [
    "mat[2, :] *= sp.Rational(1, 3)\n",
    "mat"
   ]
  },
  {
   "cell_type": "code",
   "execution_count": 44,
   "metadata": {},
   "outputs": [
    {
     "data": {
      "text/latex": [
       "$\\displaystyle \\left[\\begin{matrix}1 & 1 & 0 & 0 & \\frac{2}{3} & - \\frac{1}{3}\\\\0 & 1 & 0 & 0 & \\frac{1}{3} & - \\frac{2}{3}\\\\0 & 0 & 1 & -1 & \\frac{2}{3} & - \\frac{1}{3}\\end{matrix}\\right]$"
      ],
      "text/plain": [
       "Matrix([\n",
       "[1, 1, 0,  0, 2/3, -1/3],\n",
       "[0, 1, 0,  0, 1/3, -2/3],\n",
       "[0, 0, 1, -1, 2/3, -1/3]])"
      ]
     },
     "execution_count": 44,
     "metadata": {},
     "output_type": "execute_result"
    }
   ],
   "source": [
    "mat[1, :] += mat[2, :] * 2\n",
    "mat[0, :] += mat[2, :]\n",
    "mat"
   ]
  },
  {
   "cell_type": "code",
   "execution_count": 45,
   "metadata": {},
   "outputs": [
    {
     "data": {
      "text/latex": [
       "$\\displaystyle \\left[\\begin{matrix}1 & 0 & 0 & 0 & \\frac{1}{3} & \\frac{1}{3}\\\\0 & 1 & 0 & 0 & \\frac{1}{3} & - \\frac{2}{3}\\\\0 & 0 & 1 & -1 & \\frac{2}{3} & - \\frac{1}{3}\\end{matrix}\\right]$"
      ],
      "text/plain": [
       "Matrix([\n",
       "[1, 0, 0,  0, 1/3,  1/3],\n",
       "[0, 1, 0,  0, 1/3, -2/3],\n",
       "[0, 0, 1, -1, 2/3, -1/3]])"
      ]
     },
     "execution_count": 45,
     "metadata": {},
     "output_type": "execute_result"
    }
   ],
   "source": [
    "mat[0, :] -= mat[1, :]\n",
    "mat"
   ]
  },
  {
   "attachments": {},
   "cell_type": "markdown",
   "metadata": {},
   "source": [
    "于是结果呼之欲出，并且检验一下如下："
   ]
  },
  {
   "cell_type": "code",
   "execution_count": 47,
   "metadata": {},
   "outputs": [
    {
     "data": {
      "text/latex": [
       "$\\displaystyle \\left[\\begin{matrix}0 & \\frac{1}{3} & \\frac{1}{3}\\\\0 & \\frac{1}{3} & - \\frac{2}{3}\\\\-1 & \\frac{2}{3} & - \\frac{1}{3}\\end{matrix}\\right]$"
      ],
      "text/plain": [
       "Matrix([\n",
       "[ 0, 1/3,  1/3],\n",
       "[ 0, 1/3, -2/3],\n",
       "[-1, 2/3, -1/3]])"
      ]
     },
     "execution_count": 47,
     "metadata": {},
     "output_type": "execute_result"
    }
   ],
   "source": [
    "res = mat[0:3, 3:6]\n",
    "print(\"A^-1: \")_\n",
    "res"
   ]
  },
  {
   "cell_type": "code",
   "execution_count": 48,
   "metadata": {},
   "outputs": [
    {
     "name": "stdout",
     "output_type": "stream",
     "text": [
      "检验：\n"
     ]
    },
    {
     "data": {
      "text/latex": [
       "$\\displaystyle \\left[\\begin{matrix}1 & 0 & 0\\\\0 & 1 & 0\\\\0 & 0 & 1\\end{matrix}\\right]$"
      ],
      "text/plain": [
       "Matrix([\n",
       "[1, 0, 0],\n",
       "[0, 1, 0],\n",
       "[0, 0, 1]])"
      ]
     },
     "execution_count": 48,
     "metadata": {},
     "output_type": "execute_result"
    }
   ],
   "source": [
    "print(\"检验：\")\n",
    "mat_aug[0:3, 0:3] @ res"
   ]
  },
  {
   "attachments": {},
   "cell_type": "markdown",
   "metadata": {},
   "source": [
    "> 当然这里在实际操作中也许用列主元会更好，但这里为了避免行交换带来的一些问题，就不采用列主元的方法了。求得的结果是没有问题的。"
   ]
  },
  {
   "cell_type": "markdown",
   "metadata": {},
   "source": []
  }
 ],
 "metadata": {
  "kernelspec": {
   "display_name": "Python 3",
   "language": "python",
   "name": "python3"
  },
  "language_info": {
   "codemirror_mode": {
    "name": "ipython",
    "version": 3
   },
   "file_extension": ".py",
   "mimetype": "text/x-python",
   "name": "python",
   "nbconvert_exporter": "python",
   "pygments_lexer": "ipython3",
   "version": "3.11.3"
  },
  "orig_nbformat": 4
 },
 "nbformat": 4,
 "nbformat_minor": 2
}
