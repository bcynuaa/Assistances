{
 "cells": [
  {
   "attachments": {},
   "cell_type": "markdown",
   "metadata": {},
   "source": [
    "[toc]\n",
    "\n",
    "# 导入库"
   ]
  },
  {
   "cell_type": "code",
   "execution_count": 1,
   "metadata": {},
   "outputs": [],
   "source": [
    "import numpy as np\n",
    "import sympy as sp\n",
    "from IPython.display import Math\n",
    "import matplotlib.pyplot as plt"
   ]
  },
  {
   "attachments": {},
   "cell_type": "markdown",
   "metadata": {},
   "source": [
    "用以解决一个类似如下的问题：\n",
    "\n",
    "$$\n",
    "\\begin{bmatrix}\n",
    "b_1 & c_1 & 0 & \\cdots & 0\\\\\n",
    "a_2 & b_2 & c_2 & \\cdots & 0\\\\\n",
    "0 & \\ddots & \\ddots & \\ddots & 0\\\\\n",
    "0 & 0 & a_{n-1} & b_{n-1} & c_{n-1}\\\\\n",
    "0 & 0& \\cdots & a_n & b_n\n",
    "\\end{bmatrix}\n",
    "\\begin{bmatrix}\n",
    "    x_1\\\\\n",
    "    x_2\\\\\n",
    "    x_3\\\\\n",
    "    \\vdots\\\\\n",
    "    x_5\n",
    "\\end{bmatrix}=\n",
    "\\begin{bmatrix}\n",
    "    d_1\\\\\n",
    "    d_2\\\\\n",
    "    d_3\\\\\n",
    "    \\vdots\\\\\n",
    "    d_5\n",
    "\\end{bmatrix}\n",
    "$$\n",
    "\n",
    "下面给出一组测试数据并写入`ThomasTestData`："
   ]
  },
  {
   "cell_type": "code",
   "execution_count": 2,
   "metadata": {},
   "outputs": [
    {
     "name": "stdout",
     "output_type": "stream",
     "text": [
      "a =  [ 0  2  2  1  5 11  0  3  2 16]\n",
      "b =  [11  0  5 14 17 10 17 19 11  6]\n",
      "c =  [ 6  1 17  0  7 18  2 11 10  0]\n",
      "d =  [17  6 15 16  7  2 16  1  4  4]\n"
     ]
    }
   ],
   "source": [
    "N = 10\n",
    "a = np.random.randint(20, size=N)\n",
    "c = np.random.randint(20, size=N)\n",
    "b = np.random.randint(20, size=N)\n",
    "d = np.random.randint(20, size=N)\n",
    "a[0] = 0.0\n",
    "c[N-1] = 0.0\n",
    "\n",
    "data = np.array(\n",
    "    [a, b, c, d],\n",
    "    dtype=float\n",
    ")\n",
    "np.savetxt(\"ThomasTestData.txt\", data)\n",
    "print(\"a = \", a)\n",
    "print(\"b = \", b)\n",
    "print(\"c = \", c)\n",
    "print(\"d = \", d)"
   ]
  },
  {
   "attachments": {},
   "cell_type": "markdown",
   "metadata": {},
   "source": [
    "为方便观赏写成矩阵形式："
   ]
  },
  {
   "cell_type": "code",
   "execution_count": 3,
   "metadata": {},
   "outputs": [
    {
     "data": {
      "text/latex": [
       "$\\displaystyle \\left[\\begin{matrix}11 & 6 & 0 & 0 & 0 & 0 & 0 & 0 & 0 & 0\\\\2 & 0 & 1 & 0 & 0 & 0 & 0 & 0 & 0 & 0\\\\0 & 2 & 5 & 17 & 0 & 0 & 0 & 0 & 0 & 0\\\\0 & 0 & 1 & 14 & 0 & 0 & 0 & 0 & 0 & 0\\\\0 & 0 & 0 & 5 & 17 & 7 & 0 & 0 & 0 & 0\\\\0 & 0 & 0 & 0 & 11 & 10 & 18 & 0 & 0 & 0\\\\0 & 0 & 0 & 0 & 0 & 0 & 17 & 2 & 0 & 0\\\\0 & 0 & 0 & 0 & 0 & 0 & 3 & 19 & 11 & 0\\\\0 & 0 & 0 & 0 & 0 & 0 & 0 & 2 & 11 & 10\\\\0 & 0 & 0 & 0 & 0 & 0 & 0 & 0 & 16 & 6\\end{matrix}\\right]\\left[\\begin{matrix}x_{1}\\\\x_{2}\\\\x_{3}\\\\x_{4}\\\\x_{5}\\\\x_{6}\\\\x_{7}\\\\x_{8}\\\\x_{9}\\\\x_{10}\\end{matrix}\\right]=\\left[\\begin{matrix}17\\\\6\\\\15\\\\16\\\\7\\\\2\\\\16\\\\1\\\\4\\\\4\\end{matrix}\\right]$"
      ],
      "text/plain": [
       "<IPython.core.display.Math object>"
      ]
     },
     "metadata": {},
     "output_type": "display_data"
    }
   ],
   "source": [
    "mat = sp.zeros(N, N)\n",
    "for i in range(N):\n",
    "    mat[i, i] = b[i]\n",
    "    pass\n",
    "for i in range(1, N):\n",
    "    mat[i, i-1] = a[i]\n",
    "    pass\n",
    "for i in range(0, N-1):\n",
    "    mat[i, i+1] = c[i]\n",
    "    pass\n",
    "d_mat = sp.Matrix([\n",
    "    d\n",
    "]).transpose()\n",
    "x = sp.Matrix(sp.symbols(\"x_1:\"+str(N+1)))\n",
    "display(\n",
    "    Math(\n",
    "        sp.latex(mat)+\n",
    "        sp.latex(x)+\n",
    "        \"=\"+\n",
    "        sp.latex(d_mat)\n",
    "    )\n",
    ")"
   ]
  },
  {
   "attachments": {},
   "cell_type": "markdown",
   "metadata": {},
   "source": [
    "# `Python`解"
   ]
  },
  {
   "cell_type": "code",
   "execution_count": 4,
   "metadata": {},
   "outputs": [
    {
     "name": "stdout",
     "output_type": "stream",
     "text": [
      "分数解：\n"
     ]
    },
    {
     "data": {
      "text/latex": [
       "$\\displaystyle \\left[\\begin{matrix}\\frac{689}{236}\\\\- \\frac{1189}{472}\\\\\\frac{19}{118}\\\\\\frac{267}{236}\\\\\\frac{228280361}{175814454}\\\\- \\frac{1041316739}{351628908}\\\\\\frac{15426}{16021}\\\\- \\frac{2953}{16021}\\\\\\frac{2350}{16021}\\\\\\frac{4414}{16021}\\end{matrix}\\right]$"
      ],
      "text/plain": [
       "Matrix([\n",
       "[              689/236],\n",
       "[            -1189/472],\n",
       "[               19/118],\n",
       "[              267/236],\n",
       "[  228280361/175814454],\n",
       "[-1041316739/351628908],\n",
       "[          15426/16021],\n",
       "[          -2953/16021],\n",
       "[           2350/16021],\n",
       "[           4414/16021]])"
      ]
     },
     "execution_count": 4,
     "metadata": {},
     "output_type": "execute_result"
    }
   ],
   "source": [
    "sol_python = mat.solve(d_mat)\n",
    "print(\"分数解：\")\n",
    "sol_python"
   ]
  },
  {
   "cell_type": "code",
   "execution_count": 5,
   "metadata": {},
   "outputs": [
    {
     "name": "stdout",
     "output_type": "stream",
     "text": [
      "python数值解：\n"
     ]
    },
    {
     "data": {
      "text/plain": [
       "array([ 2.91949153, -2.5190678 ,  0.16101695,  1.13135593,  1.29841635,\n",
       "       -2.96140822,  0.96286124, -0.18432058,  0.14668248,  0.27551339])"
      ]
     },
     "execution_count": 5,
     "metadata": {},
     "output_type": "execute_result"
    }
   ],
   "source": [
    "print(\"python数值解：\")\n",
    "py_res = np.float64(np.array(sol_python.evalf()).T[0])\n",
    "py_res"
   ]
  },
  {
   "attachments": {},
   "cell_type": "markdown",
   "metadata": {},
   "source": [
    "# `cpp` 解"
   ]
  },
  {
   "attachments": {},
   "cell_type": "markdown",
   "metadata": {},
   "source": [
    "代码在 `ThomasCpp.cpp` 文件中，核心程序如下：\n",
    "\n",
    "```cpp\n",
    "std::vector<double> Thomas(std::vector<double> b, std::vector<double> a, std::vector<double> c, std::vector<double> d){\n",
    "    int N = b.size();\n",
    "    std::vector<double> beta(N);\n",
    "    std::vector<double> y(N);\n",
    "    std::vector<double> l(N);\n",
    "    std::vector<double> x(N);\n",
    "    beta[0] = b[0];\n",
    "    y[0] = d[0];\n",
    "    for(int j=1; j<N; j++){\n",
    "        l[j] = a[j] / beta[j-1];\n",
    "        beta[j] = b[j] - l[j] * c[j-1];\n",
    "        y[j] = d[j] - l[j] * y[j-1];\n",
    "    }\n",
    "    x[N-1] = y[N-1] / beta[N-1];\n",
    "    for(int j=N-2; j>-1; j--){\n",
    "        x[j] = (y[j] - c[j] * x[j+1]) / beta[j];\n",
    "    }\n",
    "    return x;\n",
    "}\n",
    "```\n",
    "\n",
    "用 `python` 编译一下并且读取文件："
   ]
  },
  {
   "cell_type": "code",
   "execution_count": 6,
   "metadata": {},
   "outputs": [
    {
     "data": {
      "text/plain": [
       "0"
      ]
     },
     "execution_count": 6,
     "metadata": {},
     "output_type": "execute_result"
    }
   ],
   "source": [
    "import os\n",
    "cpp_result_file = \"CppResult.txt\"\n",
    "os.system(\"g++ -o ThomasCpp ThomasCpp.cpp \")\n",
    "os.system(\"./ThomasCpp > \"+cpp_result_file)"
   ]
  },
  {
   "cell_type": "code",
   "execution_count": 7,
   "metadata": {},
   "outputs": [
    {
     "name": "stdout",
     "output_type": "stream",
     "text": [
      "cpp数值解：\n",
      "[ 2.91949  -2.51907   0.161017  1.13136   1.29842  -2.96141   0.962861\n",
      " -0.184321  0.146682  0.275513]\n"
     ]
    }
   ],
   "source": [
    "cpp_res = np.loadtxt(cpp_result_file).T\n",
    "print(\"cpp数值解：\")\n",
    "print(cpp_res)"
   ]
  },
  {
   "attachments": {},
   "cell_type": "markdown",
   "metadata": {},
   "source": [
    "# 比较"
   ]
  },
  {
   "cell_type": "code",
   "execution_count": 8,
   "metadata": {},
   "outputs": [
    {
     "data": {
      "image/png": "[encoded data removed]",
      "text/plain": [
       "<Figure size 800x600 with 1 Axes>"
      ]
     },
     "metadata": {},
     "output_type": "display_data"
    }
   ],
   "source": [
    "plt.figure(figsize=(8, 6), facecolor=\"white\")\n",
    "plt.plot(py_res-cpp_res)\n",
    "plt.title(\"error of cpp and python\")\n",
    "plt.grid(True)\n",
    "plt.show()"
   ]
  },
  {
   "cell_type": "code",
   "execution_count": null,
   "metadata": {},
   "outputs": [],
   "source": []
  }
 ],
 "metadata": {
  "kernelspec": {
   "display_name": "Python 3",
   "language": "python",
   "name": "python3"
  },
  "language_info": {
   "codemirror_mode": {
    "name": "ipython",
    "version": 3
   },
   "file_extension": ".py",
   "mimetype": "text/x-python",
   "name": "python",
   "nbconvert_exporter": "python",
   "pygments_lexer": "ipython3",
   "version": "3.11.3"
  },
  "orig_nbformat": 4
 },
 "nbformat": 4,
 "nbformat_minor": 2
}
