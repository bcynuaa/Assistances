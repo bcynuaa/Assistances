{
 "cells": [
  {
   "attachments": {},
   "cell_type": "markdown",
   "metadata": {},
   "source": [
    "[toc]\n",
    "\n",
    "# hw4-task1\n",
    "\n",
    "- P167，4.9 习题，1,2,3,4,5"
   ]
  },
  {
   "cell_type": "code",
   "execution_count": 1,
   "metadata": {},
   "outputs": [],
   "source": [
    "dec = 6 # 设置每一步计算保留小数点后位数（精度，可以自己调整）\n",
    "import numpy as np\n",
    "np.set_printoptions(formatter={'float': ('{: 0.' + str(dec) + 'f}').format})\n",
    "import matplotlib.pyplot as plt\n",
    "import matplotlib as mpl\n",
    "mpl.rcParams['text.usetex'] = True\n",
    "import sympy as sp"
   ]
  },
  {
   "attachments": {},
   "cell_type": "markdown",
   "metadata": {},
   "source": [
    "## 习题4.1\n",
    "\n",
    "四个点插值3次方，是没有误差的，因此插值结果就是原函数：\n",
    "\n",
    "$$\n",
    "f(x) = 56x^3 + 24x^2 + 5\n",
    "$$"
   ]
  },
  {
   "attachments": {},
   "cell_type": "markdown",
   "metadata": {},
   "source": [
    "## 习题4.2"
   ]
  },
  {
   "cell_type": "code",
   "execution_count": 2,
   "metadata": {},
   "outputs": [],
   "source": [
    "# 简单定义一个 lagrange 插值类型\n",
    "class LagInterpolation:\n",
    "    \n",
    "    def __init__(self, x, y):\n",
    "        self.x = x\n",
    "        self.y = y\n",
    "        self.N = len(x)\n",
    "        mat = np.zeros([self.N, self.N])\n",
    "        for i in range(self.N):\n",
    "            mat[i] = self.x**i\n",
    "            pass\n",
    "        mat = mat.T\n",
    "        self.coeff = np.linalg.solve(mat, self.y)\n",
    "        pass\n",
    "    \n",
    "    def value(self, x):\n",
    "        X = np.array([x**i for i in range(self.N)])\n",
    "        return self.coeff @ X\n",
    "        pass\n",
    "    \n",
    "    def value_array(self, x):\n",
    "        y = np.zeros(len(x))\n",
    "        for i in range(len(x)):\n",
    "            y[i] = self.value(x[i])\n",
    "            pass\n",
    "        return y\n",
    "        pass\n",
    "    \n",
    "    pass"
   ]
  },
  {
   "cell_type": "code",
   "execution_count": 3,
   "metadata": {},
   "outputs": [
    {
     "name": "stdout",
     "output_type": "stream",
     "text": [
      "多项式系数： [-13.221562  32.002945 -26.106933  7.287827]\n"
     ]
    }
   ],
   "source": [
    "x0 = np.array([\n",
    "    1.1275, 1.1503, 1.1735, 1.1972\n",
    "])\n",
    "y0 = np.array([\n",
    "    0.1191, 0.13954, 0.15932, 0.17903\n",
    "])\n",
    "ip = LagInterpolation(x0, y0)\n",
    "print(\"多项式系数：\", ip.coeff)"
   ]
  },
  {
   "cell_type": "code",
   "execution_count": 4,
   "metadata": {},
   "outputs": [
    {
     "data": {
      "image/png": "[encoded data removed]",
      "text/plain": [
       "<Figure size 800x600 with 1 Axes>"
      ]
     },
     "metadata": {},
     "output_type": "display_data"
    }
   ],
   "source": [
    "xx = np.linspace(1.12, 1.2, 100)\n",
    "yy = ip.value_array(xx)\n",
    "plt.figure(figsize=(8, 6))\n",
    "plt.plot(xx, yy, label=\"Lagrange Interpolation\")\n",
    "plt.scatter(x0, y0, label=\"Data Points\", color=\"red\", s=200, zorder=100)\n",
    "plt.legend(fontsize=15)\n",
    "plt.show()"
   ]
  },
  {
   "cell_type": "code",
   "execution_count": 5,
   "metadata": {},
   "outputs": [
    {
     "name": "stdout",
     "output_type": "stream",
     "text": [
      "value at x=1.1300:\n",
      "0.12140575555034161\n"
     ]
    }
   ],
   "source": [
    "print(\"value at x=1.1300:\")\n",
    "print(ip.value(1.1300))"
   ]
  },
  {
   "attachments": {},
   "cell_type": "markdown",
   "metadata": {},
   "source": [
    "## 习题4.3\n",
    "\n",
    "### 第一问\n",
    "\n",
    "记 $f(x)=x^j, j\\leq n$，于是根据据定义有显然其 $n$ 阶拉格朗日插值函数为其本身，因此满足：\n",
    "\n",
    "$$\n",
    "\\sum_{k=0}^n x_k^j l_k(x) = x^j\\quad 0\\leq j\\leq n\n",
    "$$\n",
    "\n",
    "### 第二问\n",
    "\n",
    "记函数：\n",
    "\n",
    "$$\n",
    "f(x)=(x-t)^j\n",
    "$$\n",
    "\n",
    "同前所述，$f(x)$ 可以用插值函数表示（被一组基函数的线性组合所表达）：\n",
    "\n",
    "$$\n",
    "f(x)=(x-t)^j=\\sum_{k=0}^n (x_k-t)^j l_k(x)\n",
    "$$\n",
    "\n",
    "计算 $f(t)=0$ 则：\n",
    "\n",
    "$$\n",
    "0=\\sum_{k=0}^n (x_k-t)^j l_k(t)\n",
    "$$\n",
    "\n",
    "得证。"
   ]
  },
  {
   "attachments": {},
   "cell_type": "markdown",
   "metadata": {},
   "source": [
    "## 习题4.4\n",
    "\n",
    "### 第一问\n",
    "\n",
    "记：$f(x)=x^5$，其可以被6个点的`Lagrange`插值精确得到：\n",
    "\n",
    "$$\n",
    "x^5=\\sum_{j=0}^5 x_j^5 l_j(x)\n",
    "$$\n",
    "\n",
    "因此：\n",
    "\n",
    "$$\n",
    "0=\\sum_{j=0}^5 x_j^5 l_j(0)\n",
    "$$\n",
    "\n",
    "### 第二问\n",
    "\n",
    "同4.3，为0。\n",
    "\n",
    "### 第三问\n",
    "\n",
    "如第一问所述，对于 $j\\in\\{0,1,2,3,4,5\\}$ 有：\n",
    "\n",
    "$$\n",
    "x^j=\\sum_{i=0}^5 x_i^j l_i(x)\n",
    "$$\n",
    "\n",
    "\n",
    "因此：\n",
    "\n",
    "$$\n",
    "\\text{原式}=x^5+2x^4+x^3+1\n",
    "$$\n",
    "\n",
    "让我们来测试一下，先创建 $6$ 个点"
   ]
  },
  {
   "cell_type": "code",
   "execution_count": 6,
   "metadata": {},
   "outputs": [
    {
     "data": {
      "text/latex": [
       "$\\displaystyle \\left[\\begin{matrix}x_{0}\\\\x_{1}\\\\x_{2}\\\\x_{3}\\\\x_{4}\\\\x_{5}\\end{matrix}\\right]$"
      ],
      "text/plain": [
       "Matrix([\n",
       "[x_0],\n",
       "[x_1],\n",
       "[x_2],\n",
       "[x_3],\n",
       "[x_4],\n",
       "[x_5]])"
      ]
     },
     "execution_count": 6,
     "metadata": {},
     "output_type": "execute_result"
    }
   ],
   "source": [
    "n = 5\n",
    "x = sp.symbols('x')\n",
    "xk = sp.symbols('x_0:'+str(n+1))\n",
    "X = sp.Matrix(xk)\n",
    "X"
   ]
  },
  {
   "attachments": {},
   "cell_type": "markdown",
   "metadata": {},
   "source": [
    "再得到 6 个插值基函数"
   ]
  },
  {
   "cell_type": "code",
   "execution_count": 7,
   "metadata": {},
   "outputs": [
    {
     "data": {
      "text/latex": [
       "$\\displaystyle \\left[\\begin{matrix}\\frac{\\left(x - x_{1}\\right) \\left(x - x_{2}\\right) \\left(x - x_{3}\\right) \\left(x - x_{4}\\right) \\left(x - x_{5}\\right)}{\\left(x_{0} - x_{1}\\right) \\left(x_{0} - x_{2}\\right) \\left(x_{0} - x_{3}\\right) \\left(x_{0} - x_{4}\\right) \\left(x_{0} - x_{5}\\right)}\\\\\\frac{\\left(x - x_{0}\\right) \\left(x - x_{2}\\right) \\left(x - x_{3}\\right) \\left(x - x_{4}\\right) \\left(x - x_{5}\\right)}{\\left(- x_{0} + x_{1}\\right) \\left(x_{1} - x_{2}\\right) \\left(x_{1} - x_{3}\\right) \\left(x_{1} - x_{4}\\right) \\left(x_{1} - x_{5}\\right)}\\\\\\frac{\\left(x - x_{0}\\right) \\left(x - x_{1}\\right) \\left(x - x_{3}\\right) \\left(x - x_{4}\\right) \\left(x - x_{5}\\right)}{\\left(- x_{0} + x_{2}\\right) \\left(- x_{1} + x_{2}\\right) \\left(x_{2} - x_{3}\\right) \\left(x_{2} - x_{4}\\right) \\left(x_{2} - x_{5}\\right)}\\\\\\frac{\\left(x - x_{0}\\right) \\left(x - x_{1}\\right) \\left(x - x_{2}\\right) \\left(x - x_{4}\\right) \\left(x - x_{5}\\right)}{\\left(- x_{0} + x_{3}\\right) \\left(- x_{1} + x_{3}\\right) \\left(- x_{2} + x_{3}\\right) \\left(x_{3} - x_{4}\\right) \\left(x_{3} - x_{5}\\right)}\\\\\\frac{\\left(x - x_{0}\\right) \\left(x - x_{1}\\right) \\left(x - x_{2}\\right) \\left(x - x_{3}\\right) \\left(x - x_{5}\\right)}{\\left(- x_{0} + x_{4}\\right) \\left(- x_{1} + x_{4}\\right) \\left(- x_{2} + x_{4}\\right) \\left(- x_{3} + x_{4}\\right) \\left(x_{4} - x_{5}\\right)}\\\\\\frac{\\left(x - x_{0}\\right) \\left(x - x_{1}\\right) \\left(x - x_{2}\\right) \\left(x - x_{3}\\right) \\left(x - x_{4}\\right)}{\\left(- x_{0} + x_{5}\\right) \\left(- x_{1} + x_{5}\\right) \\left(- x_{2} + x_{5}\\right) \\left(- x_{3} + x_{5}\\right) \\left(- x_{4} + x_{5}\\right)}\\end{matrix}\\right]$"
      ],
      "text/plain": [
       "Matrix([\n",
       "[     (x - x_1)*(x - x_2)*(x - x_3)*(x - x_4)*(x - x_5)/((x_0 - x_1)*(x_0 - x_2)*(x_0 - x_3)*(x_0 - x_4)*(x_0 - x_5))],\n",
       "[    (x - x_0)*(x - x_2)*(x - x_3)*(x - x_4)*(x - x_5)/((-x_0 + x_1)*(x_1 - x_2)*(x_1 - x_3)*(x_1 - x_4)*(x_1 - x_5))],\n",
       "[   (x - x_0)*(x - x_1)*(x - x_3)*(x - x_4)*(x - x_5)/((-x_0 + x_2)*(-x_1 + x_2)*(x_2 - x_3)*(x_2 - x_4)*(x_2 - x_5))],\n",
       "[  (x - x_0)*(x - x_1)*(x - x_2)*(x - x_4)*(x - x_5)/((-x_0 + x_3)*(-x_1 + x_3)*(-x_2 + x_3)*(x_3 - x_4)*(x_3 - x_5))],\n",
       "[ (x - x_0)*(x - x_1)*(x - x_2)*(x - x_3)*(x - x_5)/((-x_0 + x_4)*(-x_1 + x_4)*(-x_2 + x_4)*(-x_3 + x_4)*(x_4 - x_5))],\n",
       "[(x - x_0)*(x - x_1)*(x - x_2)*(x - x_3)*(x - x_4)/((-x_0 + x_5)*(-x_1 + x_5)*(-x_2 + x_5)*(-x_3 + x_5)*(-x_4 + x_5))]])"
      ]
     },
     "execution_count": 7,
     "metadata": {},
     "output_type": "execute_result"
    }
   ],
   "source": [
    "def getLagrangeFunction(j, n):\n",
    "    L = 1\n",
    "    for i in range(n+1):\n",
    "        if i != j:\n",
    "            L *= (x - xk[i]) / (xk[j] - xk[i])\n",
    "            pass\n",
    "        pass\n",
    "    return L\n",
    "    pass\n",
    "lX = sp.zeros(X.shape[0], X.shape[1])\n",
    "for i in range(n+1):\n",
    "    lX[i] = getLagrangeFunction(i, n)\n",
    "    pass\n",
    "lX"
   ]
  },
  {
   "attachments": {},
   "cell_type": "markdown",
   "metadata": {},
   "source": [
    "测试 $x^5+2x^4+x^3+1$（没问题）："
   ]
  },
  {
   "cell_type": "code",
   "execution_count": 8,
   "metadata": {},
   "outputs": [
    {
     "data": {
      "text/latex": [
       "$\\displaystyle x^{5} + 2 x^{4} + x^{3} + 1$"
      ],
      "text/plain": [
       "x**5 + 2*x**4 + x**3 + 1"
      ]
     },
     "execution_count": 8,
     "metadata": {},
     "output_type": "execute_result"
    }
   ],
   "source": [
    "s = 0\n",
    "for i in range(n+1):\n",
    "    s += X[i]**5 * lX[i]\n",
    "    s += 2*X[i]**4 * lX[i]\n",
    "    s += X[i]**3 * lX[i]\n",
    "    s += lX[i]\n",
    "    pass\n",
    "sp.simplify(s)"
   ]
  },
  {
   "attachments": {},
   "cell_type": "markdown",
   "metadata": {},
   "source": [
    "## 习题4.5\n",
    "\n",
    "$$\n",
    "\\ln \\omega(x)=\\sum_{i=0}^n \\ln(x-x_i)\n",
    "$$\n",
    "\n",
    "两侧对 $x$ 求导：\n",
    "\n",
    "$$\n",
    "\\frac{\\omega^\\prime (x)}{\\omega(x)}=\\sum_{i=0}^n\\frac{1}{x-x_i}\n",
    "$$\n",
    "\n",
    "因此：\n",
    "\n",
    "$$\n",
    "\\omega^\\prime(x)=\\sum_{i=0}^n \\prod_{j\\neq i}^n (x-x_j)\n",
    "$$\n",
    "\n",
    "因此：\n",
    "\n",
    "\n",
    "$$\n",
    "\\omega^\\prime(x_k)=\\sum_{i=0}^n \\prod_{j\\neq i}^n (x_k-x_j)\n",
    "$$\n",
    "\n",
    "当 $k\\neq i$ 时，会发现 $\\prod_{j\\neq i}^n (x_k-x_j)=0$ ，因此上式化简为：\n",
    "\n",
    "$$\n",
    "\\omega^\\prime(x_k)=\\prod_{j\\neq k}^n (x_k-x_j)\n",
    "$$"
   ]
  },
  {
   "cell_type": "code",
   "execution_count": null,
   "metadata": {},
   "outputs": [],
   "source": []
  }
 ],
 "metadata": {
  "kernelspec": {
   "display_name": "Python 3",
   "language": "python",
   "name": "python3"
  },
  "language_info": {
   "codemirror_mode": {
    "name": "ipython",
    "version": 3
   },
   "file_extension": ".py",
   "mimetype": "text/x-python",
   "name": "python",
   "nbconvert_exporter": "python",
   "pygments_lexer": "ipython3",
   "version": "3.11.3"
  },
  "orig_nbformat": 4
 },
 "nbformat": 4,
 "nbformat_minor": 2
}
