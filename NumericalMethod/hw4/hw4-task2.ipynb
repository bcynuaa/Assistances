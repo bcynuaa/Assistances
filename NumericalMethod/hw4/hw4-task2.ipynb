{
 "cells": [
  {
   "attachments": {},
   "cell_type": "markdown",
   "metadata": {},
   "source": [
    "# hw4-task2\n",
    "\n",
    "[toc]\n",
    "\n",
    "1. 习题4.8-4.14\n",
    "2. 习题4.16,4.19-4.22"
   ]
  },
  {
   "cell_type": "code",
   "execution_count": 1,
   "metadata": {},
   "outputs": [],
   "source": [
    "dec = 6 # 设置每一步计算保留小数点后位数（精度，可以自己调整）\n",
    "import numpy as np\n",
    "np.set_printoptions(formatter={'float': ('{: 0.' + str(dec) + 'f}').format})\n",
    "import matplotlib.pyplot as plt\n",
    "import matplotlib as mpl\n",
    "mpl.rcParams['text.usetex'] = True\n",
    "import sympy as sp"
   ]
  },
  {
   "attachments": {},
   "cell_type": "markdown",
   "metadata": {},
   "source": [
    "## 习题4.8\n",
    "\n",
    "对于一般的 `Lagrange` 插值而言有如下关系：\n",
    "\n",
    "$$\n",
    "f(x)=L(x)+\\frac{f^{(n+1)}(\\xi)}{(n+1)!}\\omega(x)\n",
    "$$\n",
    "\n",
    "当 $f(x)$ 是小于等于 $n$ 次的多项式函数时，有 $f^{(n+1)}(\\xi)=0$ ，因此有 $f(x)=L(x)$ 。"
   ]
  },
  {
   "attachments": {},
   "cell_type": "markdown",
   "metadata": {},
   "source": [
    "## 习题4.9"
   ]
  },
  {
   "cell_type": "code",
   "execution_count": 2,
   "metadata": {},
   "outputs": [],
   "source": [
    "class Interpolation:\n",
    "    \n",
    "    def __init__(self, x_in: np.ndarray, y_in: np.ndarray) -> None:\n",
    "        self.x_in = x_in\n",
    "        self.y_in = y_in\n",
    "        self.N = len(self.x_in)\n",
    "        self.getInterpolationCoeff()\n",
    "        pass\n",
    "    \n",
    "    def getInterpolationCoeff(self) -> None:\n",
    "        X = np.zeros([self.N, self.N])\n",
    "        for i in range(self.N):\n",
    "            X[i] = self.x_in ** i\n",
    "            pass\n",
    "        self.coeff = np.linalg.inv(X.T) @ self.y_in\n",
    "        pass\n",
    "    \n",
    "    def value(self, x: float) -> float:\n",
    "        x_ = x ** np.arange(0, self.N, 1)\n",
    "        return self.coeff @ x_\n",
    "        pass\n",
    "    \n",
    "    def values(self, x: np.ndarray) -> np.ndarray:\n",
    "        n = len(x)\n",
    "        y = np.zeros(n)\n",
    "        for i in range(n):\n",
    "            y[i] = self.value(x[i])\n",
    "            pass\n",
    "        return y\n",
    "        pass\n",
    "    \n",
    "    def expr(self) -> str:\n",
    "        s = \"\"\n",
    "        for i in range(self.N):\n",
    "            s += str(self.coeff[i]) + \"x^\" + str(i) + \"+\"\n",
    "            pass\n",
    "        return s[:-1]\n",
    "        pass\n",
    "    \n",
    "    pass"
   ]
  }
 ],
 "metadata": {
  "kernelspec": {
   "display_name": "Python 3",
   "language": "python",
   "name": "python3"
  },
  "language_info": {
   "codemirror_mode": {
    "name": "ipython",
    "version": 3
   },
   "file_extension": ".py",
   "mimetype": "text/x-python",
   "name": "python",
   "nbconvert_exporter": "python",
   "pygments_lexer": "ipython3",
   "version": "3.11.3"
  },
  "orig_nbformat": 4
 },
 "nbformat": 4,
 "nbformat_minor": 2
}
