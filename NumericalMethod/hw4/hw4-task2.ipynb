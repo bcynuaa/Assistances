{
 "cells": [
  {
   "attachments": {},
   "cell_type": "markdown",
   "metadata": {},
   "source": [
    "# hw4-task2\n",
    "\n",
    "[toc]\n",
    "\n",
    "1. 习题4.8-4.14\n",
    "2. 习题4.16,4.19-4.22"
   ]
  },
  {
   "cell_type": "code",
   "execution_count": 52,
   "metadata": {},
   "outputs": [],
   "source": [
    "dec = 6 # 设置每一步计算保留小数点后位数（精度，可以自己调整）\n",
    "import numpy as np\n",
    "np.set_printoptions(formatter={'float': ('{: 0.' + str(dec) + 'f}').format})\n",
    "import matplotlib.pyplot as plt\n",
    "import matplotlib as mpl\n",
    "mpl.rcParams['text.usetex'] = True\n",
    "import sympy as sp"
   ]
  },
  {
   "attachments": {},
   "cell_type": "markdown",
   "metadata": {},
   "source": [
    "## 习题4.8\n",
    "\n",
    "对于一般的 `Lagrange` 插值而言有如下关系：\n",
    "\n",
    "$$\n",
    "f(x)=L(x)+\\frac{f^{(n+1)}(\\xi)}{(n+1)!}\\omega(x)\n",
    "$$\n",
    "\n",
    "当 $f(x)$ 是小于等于 $n$ 次的多项式函数时，有 $f^{(n+1)}(\\xi)=0$ ，因此有 $f(x)=L(x)$ 。"
   ]
  },
  {
   "attachments": {},
   "cell_type": "markdown",
   "metadata": {},
   "source": [
    "## `class LagrangeInterpolation` 编写"
   ]
  },
  {
   "cell_type": "code",
   "execution_count": 53,
   "metadata": {},
   "outputs": [],
   "source": [
    "class LagrangeInterpolation:\n",
    "    \n",
    "    def __init__(self, x_in: np.ndarray, y_in: np.ndarray) -> None:\n",
    "        self.x_in = x_in\n",
    "        self.y_in = y_in\n",
    "        self.N = len(self.x_in)\n",
    "        self.getInterpolationCoeff()\n",
    "        pass\n",
    "    \n",
    "    def getInterpolationCoeff(self) -> None:\n",
    "        X = np.zeros([self.N, self.N])\n",
    "        for i in range(self.N):\n",
    "            X[i] = self.x_in ** i\n",
    "            pass\n",
    "        self.coeff = np.linalg.inv(X.T) @ self.y_in\n",
    "        pass\n",
    "    \n",
    "    def value(self, x: float) -> float:\n",
    "        x_ = x ** np.arange(0, self.N, 1)\n",
    "        return self.coeff @ x_\n",
    "        pass\n",
    "    \n",
    "    def values(self, x: np.ndarray) -> np.ndarray:\n",
    "        n = len(x)\n",
    "        y = np.zeros(n)\n",
    "        for i in range(n):\n",
    "            y[i] = self.value(x[i])\n",
    "            pass\n",
    "        return y\n",
    "        pass\n",
    "    \n",
    "    def expr(self) -> str:\n",
    "        s = \"\"\n",
    "        for i in range(self.N):\n",
    "            if i == 0:\n",
    "                s += str(self.coeff[i]) + \" + \"\n",
    "                pass\n",
    "            else:\n",
    "                s += str(self.coeff[i]) + \"x^\" + str(i) + \" + \"\n",
    "                pass\n",
    "            pass\n",
    "        return s[:-2]\n",
    "        pass\n",
    "    \n",
    "    pass"
   ]
  },
  {
   "attachments": {},
   "cell_type": "markdown",
   "metadata": {},
   "source": [
    "## 习题4.9"
   ]
  },
  {
   "attachments": {},
   "cell_type": "markdown",
   "metadata": {},
   "source": [
    "### 线性插值"
   ]
  },
  {
   "cell_type": "code",
   "execution_count": 54,
   "metadata": {},
   "outputs": [
    {
     "data": {
      "text/plain": [
       "'0.23035091339287384 + 0.6070244240594347x^1 '"
      ]
     },
     "execution_count": 54,
     "metadata": {},
     "output_type": "execute_result"
    }
   ],
   "source": [
    "x = np.array([45, 60]) * np.pi / 180\n",
    "y = np.sin(x)\n",
    "i = LagrangeInterpolation(x, y)\n",
    "i.expr()"
   ]
  },
  {
   "cell_type": "code",
   "execution_count": 55,
   "metadata": {},
   "outputs": [
    {
     "name": "stdout",
     "output_type": "stream",
     "text": [
      "插值值为： 0.7600796553858448\n",
      "精确值为： 0.766044443118978\n",
      "error =  0.005964787733133248\n"
     ]
    }
   ],
   "source": [
    "print(\"插值值为：\", i.value(50 * np.pi / 180))\n",
    "print(\"精确值为：\", np.sin(50 * np.pi / 180))\n",
    "print(\"error = \", np.abs(i.value(50 * np.pi / 180) - np.sin(50*np.pi/180)))"
   ]
  },
  {
   "attachments": {},
   "cell_type": "markdown",
   "metadata": {},
   "source": [
    "### 二次插值"
   ]
  },
  {
   "cell_type": "code",
   "execution_count": 56,
   "metadata": {},
   "outputs": [
    {
     "data": {
      "text/plain": [
       "'-0.05877803813906546 + 1.251252649641426x^1 + -0.35153865113380967x^2 '"
      ]
     },
     "execution_count": 56,
     "metadata": {},
     "output_type": "execute_result"
    }
   ],
   "source": [
    "x = np.array([30, 45, 60]) * np.pi / 180\n",
    "y = np.sin(x)\n",
    "i = LagrangeInterpolation(x, y)\n",
    "i.expr()"
   ]
  },
  {
   "cell_type": "code",
   "execution_count": 57,
   "metadata": {},
   "outputs": [
    {
     "name": "stdout",
     "output_type": "stream",
     "text": [
      "插值值为： 0.7654338952290286\n",
      "精确值为： 0.766044443118978\n",
      "error =  0.0006105478899494088\n"
     ]
    }
   ],
   "source": [
    "print(\"插值值为：\", i.value(50 * np.pi / 180))\n",
    "print(\"精确值为：\", np.sin(50 * np.pi / 180))\n",
    "print(\"error = \", np.abs(i.value(50 * np.pi / 180) - np.sin(50*np.pi/180)))"
   ]
  },
  {
   "attachments": {},
   "cell_type": "markdown",
   "metadata": {},
   "source": [
    "## 习题4.10"
   ]
  },
  {
   "attachments": {},
   "cell_type": "markdown",
   "metadata": {},
   "source": [
    "## `function AitkenInterpolation` 编写"
   ]
  },
  {
   "cell_type": "code",
   "execution_count": 58,
   "metadata": {},
   "outputs": [],
   "source": [
    "def AitkenInterpolation(x: float, x_in: np.ndarray, y_in: np.ndarray) ->float:\n",
    "    for i in range(len(x_in) - 1):\n",
    "        for j in range(len(x_in) - i - 1):\n",
    "            y_in[j] = (y_in[j+1] - y_in[j]) / (x_in[j+i+1] - x_in[j]) * (x - x_in[j]) + y_in[j]\n",
    "            pass\n",
    "        pass\n",
    "    return y_in[0]\n",
    "    pass"
   ]
  },
  {
   "cell_type": "code",
   "execution_count": 59,
   "metadata": {},
   "outputs": [
    {
     "data": {
      "text/plain": [
       "array([ 0.111111,  0.333333,  1.000000,  3.000000,  9.000000])"
      ]
     },
     "execution_count": 59,
     "metadata": {},
     "output_type": "execute_result"
    }
   ],
   "source": [
    "x = np.arange(-2, 3, 1)\n",
    "y = np.power(3, x+2) / np.power(3, 2)\n",
    "y"
   ]
  },
  {
   "cell_type": "code",
   "execution_count": 60,
   "metadata": {},
   "outputs": [
    {
     "name": "stdout",
     "output_type": "stream",
     "text": [
      "0.5处插值值为： 1.7083333333333333\n"
     ]
    }
   ],
   "source": [
    "print(\"0.5处插值值为：\", AitkenInterpolation(0.5, x, y))"
   ]
  },
  {
   "attachments": {},
   "cell_type": "markdown",
   "metadata": {},
   "source": [
    "## 习题4.11"
   ]
  },
  {
   "cell_type": "code",
   "execution_count": 61,
   "metadata": {},
   "outputs": [
    {
     "data": {
      "text/plain": [
       "'-0.02546380000035242 + 1.3046850000009727x^1 + -0.42549999999937427x^2 '"
      ]
     },
     "execution_count": 61,
     "metadata": {},
     "output_type": "execute_result"
    }
   ],
   "source": [
    "x = np.array([\n",
    "    0.46, 0.47, 0.48, 0.49\n",
    "])\n",
    "y = np.array([\n",
    "    0.4846555, 0.4937452, 0.5027498, 0.5116683\n",
    "])\n",
    "i = LagrangeInterpolation(x[0:-1], y[0:-1])\n",
    "i.expr()"
   ]
  },
  {
   "cell_type": "code",
   "execution_count": 62,
   "metadata": {},
   "outputs": [
    {
     "name": "stdout",
     "output_type": "stream",
     "text": [
      "x = 0.472时，插值值为： 0.495552928000246\n"
     ]
    }
   ],
   "source": [
    "print(\"x = 0.472时，插值值为：\", i.value(0.472))"
   ]
  },
  {
   "cell_type": "code",
   "execution_count": 63,
   "metadata": {},
   "outputs": [
    {
     "data": {
      "text/plain": [
       "'0.07016152590608726 + 0.5144575226386223x^1 + 0.5981826073884804x^2 '"
      ]
     },
     "execution_count": 63,
     "metadata": {},
     "output_type": "execute_result"
    }
   ],
   "source": [
    "i = LagrangeInterpolation(y[1:], x[1:])\n",
    "i.expr()"
   ]
  },
  {
   "cell_type": "code",
   "execution_count": 64,
   "metadata": {},
   "outputs": [
    {
     "name": "stdout",
     "output_type": "stream",
     "text": [
      "f(x)=0.5 时值为（反插值）： 0.4769359390725185\n"
     ]
    }
   ],
   "source": [
    "print(\"f(x)=0.5 时值为（反插值）：\", i.value(0.5))"
   ]
  },
  {
   "attachments": {},
   "cell_type": "markdown",
   "metadata": {},
   "source": [
    "## 习题4.12\n",
    "\n",
    "$$\n",
    "f[x_0, x_0] = \\lim_{x\\to x_0}\\frac{f(x)-f(x_0)}{x-x_0}=f^\\prime(x_0)\n",
    "$$"
   ]
  },
  {
   "attachments": {},
   "cell_type": "markdown",
   "metadata": {},
   "source": [
    "## 习题4.13\n",
    "\n",
    "这里比较好的证明方法是数学归纳法，因为比较显然，就不再说明了。"
   ]
  },
  {
   "attachments": {},
   "cell_type": "markdown",
   "metadata": {},
   "source": [
    "## 习题4.14\n",
    "\n",
    "同样比较显然，这里就不在多说明。"
   ]
  },
  {
   "attachments": {},
   "cell_type": "markdown",
   "metadata": {},
   "source": [
    "## 习题4.16"
   ]
  },
  {
   "cell_type": "code",
   "execution_count": 65,
   "metadata": {},
   "outputs": [],
   "source": [
    "def DifferenceQuotient(x_in: np.ndarray, y_in: np.ndarray) -> float:\n",
    "    x_ = x_in.copy()\n",
    "    y_ = y_in.copy()\n",
    "    for i in range(len(x_in) - 1):\n",
    "        for j in range(len(x_in) - i - 1):\n",
    "            y_[j] = (y_[j+1] - y_[j]) / (x_[j+i+1] - x_[j])\n",
    "            pass\n",
    "        pass\n",
    "    return y_[0]\n",
    "    pass"
   ]
  },
  {
   "cell_type": "code",
   "execution_count": 66,
   "metadata": {},
   "outputs": [
    {
     "name": "stdout",
     "output_type": "stream",
     "text": [
      "f[3^0,... 3^1] =  83\n",
      "f[3^0,... 3^2] =  1171\n",
      "f[3^0,... 3^3] =  1207\n",
      "f[3^0,... 3^4] =  121\n",
      "f[3^0,... 3^5] =  1\n",
      "f[3^0,... 3^6] =  0\n"
     ]
    }
   ],
   "source": [
    "f = lambda x: x**5 - 3*x**3 + x - 1\n",
    "for i in range(1, 7):\n",
    "    x = 3 ** np.arange(0, i+1, 1)\n",
    "    y = f(x)\n",
    "    print(\"f[3^0,... 3^\"+str(i)+\"] = \", DifferenceQuotient(x, y))\n",
    "    pass"
   ]
  },
  {
   "attachments": {},
   "cell_type": "markdown",
   "metadata": {},
   "source": [
    "## 习题4.18\n",
    "\n",
    "$$\n",
    "f[x_0,x_1,\\cdots,x_p]=\n",
    "\\begin{cases}\n",
    "    \\begin{aligned}\n",
    "    &0\\quad p<n+1\\\\\n",
    "    &1\\quad p=n+1\n",
    "    \\end{aligned}\n",
    "\\end{cases}\n",
    "$$"
   ]
  },
  {
   "attachments": {},
   "cell_type": "markdown",
   "metadata": {},
   "source": [
    "## 习题4.19"
   ]
  },
  {
   "cell_type": "code",
   "execution_count": 73,
   "metadata": {},
   "outputs": [],
   "source": [
    "class NewtonInterpolation:\n",
    "    \n",
    "    def __init__(self, x_in: np.ndarray, y_in: np.ndarray) -> None:\n",
    "        self.x_in = x_in\n",
    "        self.y_in = y_in\n",
    "        self.N = len(self.x_in)\n",
    "        self.getNewtonInterpolationCoeff()\n",
    "        pass\n",
    "    \n",
    "    def differenceQuotient(self, x: np.ndarray, y: np.ndarray) -> float:\n",
    "        N = len(x)\n",
    "        sum = 0\n",
    "        for k in range(N):\n",
    "            prod = 1\n",
    "            for i in range(N):\n",
    "                if i != k:\n",
    "                    prod *= (x[k] - x[i])\n",
    "                    pass\n",
    "                pass\n",
    "            sum += y[k] / prod\n",
    "            pass\n",
    "        return sum\n",
    "        pass\n",
    "    \n",
    "    def getNewtonInterpolationCoeff(self) -> None:\n",
    "        self.coeff = np.zeros(self.N)\n",
    "        for i in range(0, self.N):\n",
    "            self.coeff[i] = self.differenceQuotient(self.x_in[0:i+1], self.y_in[0:i+1])\n",
    "            pass\n",
    "        pass\n",
    "    \n",
    "    def value(self, x: float) -> float:\n",
    "        sum = 0\n",
    "        for i in range(self.N):\n",
    "            prod = 1\n",
    "            for j in range(i):\n",
    "                prod *= (x - self.x_in[j])\n",
    "                pass\n",
    "            sum += self.coeff[i] * prod\n",
    "            pass\n",
    "        return sum\n",
    "        pass\n",
    "    \n",
    "    def expr(self, n = 100000) -> str:\n",
    "        s = \"\"\n",
    "        s += str(self.coeff[0]) + \" + \"\n",
    "        for i in range(1, min(n, self.N)):\n",
    "            prod = \"\"\n",
    "            for j in range(i):\n",
    "                prod += \"(x - \" + str(self.x_in[j]) + \")\"\n",
    "                pass\n",
    "            s += str(self.coeff[i]) + prod + \" + \"\n",
    "            pass\n",
    "        return s[:-2]\n",
    "        pass\n",
    "    \n",
    "    pass"
   ]
  },
  {
   "cell_type": "code",
   "execution_count": 74,
   "metadata": {},
   "outputs": [
    {
     "name": "stdout",
     "output_type": "stream",
     "text": [
      "x = 0.23时，二次插值值为： 0.2321151495384235  error =  8.194582535159256e-05\n"
     ]
    }
   ],
   "source": [
    "x = np.array([\n",
    "    0, 0.2, 0.3, 0.5\n",
    "])\n",
    "y = np.sinh(x)\n",
    "i = NewtonInterpolation(x[:-1], y[:-1])\n",
    "print(\"x = 0.23时，二次插值值为：\", i.value(0.23), \" error = \", np.abs(i.value(0.23) - np.sinh(0.23)))"
   ]
  },
  {
   "cell_type": "code",
   "execution_count": 75,
   "metadata": {},
   "outputs": [
    {
     "name": "stdout",
     "output_type": "stream",
     "text": [
      "x = 0.23时，三次插值值为： 0.23203185053791106  error =  1.3531751608397702e-06\n"
     ]
    }
   ],
   "source": [
    "i = NewtonInterpolation(x, y)\n",
    "print(\"x = 0.23时，三次插值值为：\", i.value(0.23), \" error = \", np.abs(i.value(0.23) - np.sinh(0.23)))"
   ]
  },
  {
   "attachments": {},
   "cell_type": "markdown",
   "metadata": {},
   "source": [
    "## 习题4.20"
   ]
  },
  {
   "cell_type": "code",
   "execution_count": 76,
   "metadata": {},
   "outputs": [
    {
     "name": "stdout",
     "output_type": "stream",
     "text": [
      "x = 1.5时，y插值值为： -0.40624999999999944\n"
     ]
    }
   ],
   "source": [
    "x = np.array([\n",
    "    -1, 0, 2, 3\n",
    "])\n",
    "y = np.array([\n",
    "    -4, -1, 0, 3\n",
    "])\n",
    "i = NewtonInterpolation(x, y)\n",
    "print(\"x = 1.5时，y插值值为：\", i.value(1.5))"
   ]
  },
  {
   "cell_type": "code",
   "execution_count": 77,
   "metadata": {},
   "outputs": [
    {
     "name": "stdout",
     "output_type": "stream",
     "text": [
      "y = 0.5时，x插值值为： 2.9107142857142856\n"
     ]
    }
   ],
   "source": [
    "i = NewtonInterpolation(y, x)\n",
    "print(\"y = 0.5时，x插值值为：\", i.value(0.5))"
   ]
  },
  {
   "attachments": {},
   "cell_type": "markdown",
   "metadata": {},
   "source": [
    "## 习题4.21\n",
    "\n",
    "$$\n",
    "l_0(x_0)=1\\quad l_0(x_i)=0(i\\neq 0)\n",
    "$$\n",
    "\n",
    "运用牛顿插值，可以直接导出：\n",
    "\n",
    "$$\n",
    "l_0[x_0, x_1,\\cdots,x_n]=\\sum_{k=0}^n \\frac{l_0(x_k)}{\\prod_{i=0,i\\neq k}^n (x_k-x_i)}=\\frac{1}{\\prod_{i=1}^n (x_0-x_i)}\n",
    "$$\n",
    "\n",
    "因此显然有：\n",
    "\n",
    "$$\n",
    "l_0(x)=\\sum_{j=0}^{n-1} \\prod_{k=0}^j \\frac{x-x_k}{x_0-x_{k+1}}\n",
    "$$\n",
    "\n",
    "证毕。"
   ]
  },
  {
   "attachments": {},
   "cell_type": "markdown",
   "metadata": {},
   "source": [
    "## 习题4.22"
   ]
  },
  {
   "cell_type": "code",
   "execution_count": 81,
   "metadata": {},
   "outputs": [
    {
     "data": {
      "text/plain": [
       "'1.0 + 3.1999999999999993(x - 0.0) + 2.000000000000014(x - 0.0)(x - 0.1) '"
      ]
     },
     "execution_count": 81,
     "metadata": {},
     "output_type": "execute_result"
    }
   ],
   "source": [
    "x = np.arange(0, 0.6, 0.1)\n",
    "y = np.array([\n",
    "    1, 1.32, 1.68, 2.08, 2.52, 3\n",
    "])\n",
    "iN = NewtonInterpolation(x, y)\n",
    "iN.expr(3)"
   ]
  },
  {
   "cell_type": "code",
   "execution_count": 82,
   "metadata": {},
   "outputs": [
    {
     "data": {
      "text/plain": [
       "'1.0 + 3.000000000000199x^1 + 1.9999999999995453x^2 + -1.8189894035458565e-12x^3 + 0.0x^4 + 0.0x^5 '"
      ]
     },
     "execution_count": 82,
     "metadata": {},
     "output_type": "execute_result"
    }
   ],
   "source": [
    "iL = LagrangeInterpolation(x, y)\n",
    "iL.expr()"
   ]
  },
  {
   "cell_type": "code",
   "execution_count": null,
   "metadata": {},
   "outputs": [],
   "source": []
  }
 ],
 "metadata": {
  "kernelspec": {
   "display_name": "Python 3",
   "language": "python",
   "name": "python3"
  },
  "language_info": {
   "codemirror_mode": {
    "name": "ipython",
    "version": 3
   },
   "file_extension": ".py",
   "mimetype": "text/x-python",
   "name": "python",
   "nbconvert_exporter": "python",
   "pygments_lexer": "ipython3",
   "version": "3.11.3"
  },
  "orig_nbformat": 4
 },
 "nbformat": 4,
 "nbformat_minor": 2
}
