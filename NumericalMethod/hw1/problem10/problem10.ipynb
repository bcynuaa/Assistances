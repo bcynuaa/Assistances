{
 "cells": [
  {
   "cell_type": "markdown",
   "metadata": {},
   "source": [
    "# 公式推导与真解\n",
    "\n",
    "$$\n",
    "\\begin{equation}\n",
    "  \\begin{aligned}\n",
    "    I_n&=\\int_0^1\\frac{x}{x+5}x^{n-1}dx\\\\\n",
    "    &=\\int_0^1 x^{n-1}dx - 5\\int_{0}^1\\frac{x_{n-1}}{x+5}dx\\\\\n",
    "    &=\\frac{1}{n}-5I_{n-1}\n",
    "  \\end{aligned}\n",
    "\\end{equation}\n",
    "$$\n",
    "\n",
    "因此对于推导而言，存在如上的递推关系。为了考量比较真实值和递推值，我们可以先使用 `SymPy` 推导出真正的解。"
   ]
  },
  {
   "cell_type": "code",
   "execution_count": 1,
   "metadata": {},
   "outputs": [],
   "source": [
    "import sympy as sp\n",
    "import numpy as np\n",
    "import matplotlib.pyplot as plt\n",
    "import matplotlib as mpl\n",
    "mpl.rcParams['text.usetex'] = True"
   ]
  },
  {
   "cell_type": "markdown",
   "metadata": {},
   "source": [
    "让我们定义一些基本量，来进行计算："
   ]
  },
  {
   "cell_type": "code",
   "execution_count": 2,
   "metadata": {},
   "outputs": [
    {
     "data": {
      "text/latex": [
       "$\\displaystyle \\left[\\begin{matrix}\\frac{1}{x + 5}\\\\\\frac{x}{x + 5}\\\\\\frac{x^{2}}{x + 5}\\\\\\frac{x^{3}}{x + 5}\\\\\\frac{x^{4}}{x + 5}\\\\\\frac{x^{5}}{x + 5}\\\\\\frac{x^{6}}{x + 5}\\\\\\frac{x^{7}}{x + 5}\\\\\\frac{x^{8}}{x + 5}\\end{matrix}\\right]$"
      ],
      "text/plain": [
       "Matrix([\n",
       "[   1/(x + 5)],\n",
       "[   x/(x + 5)],\n",
       "[x**2/(x + 5)],\n",
       "[x**3/(x + 5)],\n",
       "[x**4/(x + 5)],\n",
       "[x**5/(x + 5)],\n",
       "[x**6/(x + 5)],\n",
       "[x**7/(x + 5)],\n",
       "[x**8/(x + 5)]])"
      ]
     },
     "execution_count": 2,
     "metadata": {},
     "output_type": "execute_result"
    }
   ],
   "source": [
    "n = 8\n",
    "n_range = np.array(range(0, n+1), dtype=int)\n",
    "x_sym = sp.symbols(\"x\")\n",
    "expr = sp.Matrix([[x_sym**n_range[i] / (x_sym+5) for i in range(len(n_range))]])\n",
    "expr.T"
   ]
  },
  {
   "cell_type": "markdown",
   "metadata": {},
   "source": [
    "因此看可以导出积分的精确解析表达式："
   ]
  },
  {
   "cell_type": "code",
   "execution_count": 3,
   "metadata": {},
   "outputs": [
    {
     "data": {
      "text/latex": [
       "$\\displaystyle \\left[\\begin{matrix}\\log{\\left(x + 5 \\right)}\\\\x - 5 \\log{\\left(x + 5 \\right)}\\\\\\frac{x^{2}}{2} - 5 x + 25 \\log{\\left(x + 5 \\right)}\\\\\\frac{x^{3}}{3} - \\frac{5 x^{2}}{2} + 25 x - 125 \\log{\\left(x + 5 \\right)}\\\\\\frac{x^{4}}{4} - \\frac{5 x^{3}}{3} + \\frac{25 x^{2}}{2} - 125 x + 625 \\log{\\left(x + 5 \\right)}\\\\\\frac{x^{5}}{5} - \\frac{5 x^{4}}{4} + \\frac{25 x^{3}}{3} - \\frac{125 x^{2}}{2} + 625 x - 3125 \\log{\\left(x + 5 \\right)}\\\\\\frac{x^{6}}{6} - x^{5} + \\frac{25 x^{4}}{4} - \\frac{125 x^{3}}{3} + \\frac{625 x^{2}}{2} - 3125 x + 15625 \\log{\\left(x + 5 \\right)}\\\\\\frac{x^{7}}{7} - \\frac{5 x^{6}}{6} + 5 x^{5} - \\frac{125 x^{4}}{4} + \\frac{625 x^{3}}{3} - \\frac{3125 x^{2}}{2} + 15625 x - 78125 \\log{\\left(x + 5 \\right)}\\\\\\frac{x^{8}}{8} - \\frac{5 x^{7}}{7} + \\frac{25 x^{6}}{6} - 25 x^{5} + \\frac{625 x^{4}}{4} - \\frac{3125 x^{3}}{3} + \\frac{15625 x^{2}}{2} - 78125 x + 390625 \\log{\\left(x + 5 \\right)}\\end{matrix}\\right]$"
      ],
      "text/plain": [
       "Matrix([\n",
       "[                                                                                                     log(x + 5)],\n",
       "[                                                                                               x - 5*log(x + 5)],\n",
       "[                                                                                   x**2/2 - 5*x + 25*log(x + 5)],\n",
       "[                                                                      x**3/3 - 5*x**2/2 + 25*x - 125*log(x + 5)],\n",
       "[                                                         x**4/4 - 5*x**3/3 + 25*x**2/2 - 125*x + 625*log(x + 5)],\n",
       "[                                           x**5/5 - 5*x**4/4 + 25*x**3/3 - 125*x**2/2 + 625*x - 3125*log(x + 5)],\n",
       "[                                x**6/6 - x**5 + 25*x**4/4 - 125*x**3/3 + 625*x**2/2 - 3125*x + 15625*log(x + 5)],\n",
       "[                x**7/7 - 5*x**6/6 + 5*x**5 - 125*x**4/4 + 625*x**3/3 - 3125*x**2/2 + 15625*x - 78125*log(x + 5)],\n",
       "[x**8/8 - 5*x**7/7 + 25*x**6/6 - 25*x**5 + 625*x**4/4 - 3125*x**3/3 + 15625*x**2/2 - 78125*x + 390625*log(x + 5)]])"
      ]
     },
     "execution_count": 3,
     "metadata": {},
     "output_type": "execute_result"
    }
   ],
   "source": [
    "expr_integrate = sp.integrate(expr, x_sym)\n",
    "expr_integrate.T"
   ]
  },
  {
   "cell_type": "markdown",
   "metadata": {},
   "source": [
    "进而看可以求出 $I_n$ 的真实值如下（取小数点后 $6$ 位）"
   ]
  },
  {
   "cell_type": "code",
   "execution_count": 4,
   "metadata": {},
   "outputs": [
    {
     "data": {
      "text/latex": [
       "$\\displaystyle \\left[\\begin{matrix}- \\log{\\left(5 \\right)} + \\log{\\left(6 \\right)}\\\\- 5 \\log{\\left(6 \\right)} + 1 + 5 \\log{\\left(5 \\right)}\\\\- 25 \\log{\\left(5 \\right)} - \\frac{9}{2} + 25 \\log{\\left(6 \\right)}\\\\- 125 \\log{\\left(6 \\right)} + \\frac{137}{6} + 125 \\log{\\left(5 \\right)}\\\\- 625 \\log{\\left(5 \\right)} - \\frac{1367}{12} + 625 \\log{\\left(6 \\right)}\\\\- 3125 \\log{\\left(6 \\right)} + \\frac{34187}{60} + 3125 \\log{\\left(5 \\right)}\\\\- 15625 \\log{\\left(5 \\right)} - \\frac{11395}{4} + 15625 \\log{\\left(6 \\right)}\\\\- 78125 \\log{\\left(6 \\right)} + \\frac{398829}{28} + 78125 \\log{\\left(5 \\right)}\\\\- 390625 \\log{\\left(5 \\right)} - \\frac{3988283}{56} + 390625 \\log{\\left(6 \\right)}\\end{matrix}\\right]$"
      ],
      "text/plain": [
       "Matrix([\n",
       "[                           -log(5) + log(6)],\n",
       "[                   -5*log(6) + 1 + 5*log(5)],\n",
       "[               -25*log(5) - 9/2 + 25*log(6)],\n",
       "[           -125*log(6) + 137/6 + 125*log(5)],\n",
       "[         -625*log(5) - 1367/12 + 625*log(6)],\n",
       "[      -3125*log(6) + 34187/60 + 3125*log(5)],\n",
       "[     -15625*log(5) - 11395/4 + 15625*log(6)],\n",
       "[   -78125*log(6) + 398829/28 + 78125*log(5)],\n",
       "[-390625*log(5) - 3988283/56 + 390625*log(6)]])"
      ]
     },
     "execution_count": 4,
     "metadata": {},
     "output_type": "execute_result"
    }
   ],
   "source": [
    "In_real_expr = expr_integrate.subs(x_sym, 1) - expr_integrate.subs(x_sym, 0)\n",
    "In_real_expr.T"
   ]
  },
  {
   "cell_type": "code",
   "execution_count": 5,
   "metadata": {},
   "outputs": [
    {
     "name": "stdout",
     "output_type": "stream",
     "text": [
      "[ 0.182322  0.088392  0.058039  0.043139  0.034306  0.028468  0.024325\n",
      "  0.021233  0.018837]\n"
     ]
    }
   ],
   "source": [
    "dec = 6\n",
    "np.set_printoptions(formatter={'float': ('{: 0.' + str(dec) + 'f}').format})\n",
    "In_real = np.round(np.array(In_real_expr, dtype=float), dec)[0]\n",
    "print(In_real)"
   ]
  },
  {
   "cell_type": "markdown",
   "metadata": {},
   "source": [
    "不妨绘制出这里的值："
   ]
  },
  {
   "cell_type": "code",
   "execution_count": 6,
   "metadata": {},
   "outputs": [
    {
     "data": {
      "image/png": "[encoded data removed]",
      "text/plain": [
       "<Figure size 576x360 with 1 Axes>"
      ]
     },
     "metadata": {},
     "output_type": "display_data"
    }
   ],
   "source": [
    "plt.figure(figsize=(8, 5), facecolor=\"white\")\n",
    "plt.scatter(n_range, In_real, s=100, color=\"red\", zorder=10, label=\"real $I_n$\")\n",
    "plt.plot(n_range, In_real, color=\"blue\", label=\"Connect by line\")\n",
    "plt.legend(loc=\"upper right\", fontsize=15)\n",
    "plt.xlabel(\"$n$\", fontsize=15)\n",
    "plt.ylabel(\"$I_n$\", fontsize=15)\n",
    "plt.grid(True)\n",
    "plt.title(\"Real Solution for $n-I_n$\")\n",
    "plt.show()"
   ]
  },
  {
   "cell_type": "markdown",
   "metadata": {},
   "source": [
    "# 从 $0$ 开始的递推\n",
    "\n",
    "采用递推公式：\n",
    "\n",
    "$$\n",
    "I_n = \\frac{1}{n}-5I_{n-1}\n",
    "$$\n",
    "\n",
    "每一步计算都保留小数点后 $6$ 位："
   ]
  },
  {
   "cell_type": "code",
   "execution_count": 7,
   "metadata": {},
   "outputs": [
    {
     "data": {
      "text/plain": [
       "0.182322"
      ]
     },
     "execution_count": 7,
     "metadata": {},
     "output_type": "execute_result"
    }
   ],
   "source": [
    "In_from0 = np.zeros(n+1)\n",
    "I0 = np.round(np.log(6/5), dec)\n",
    "In_from0[0] = I0\n",
    "I0"
   ]
  },
  {
   "cell_type": "code",
   "execution_count": 8,
   "metadata": {},
   "outputs": [
    {
     "name": "stdout",
     "output_type": "stream",
     "text": [
      "[ 0.182322  0.088390  0.058050  0.043083  0.034585  0.027075  0.031292\n",
      " -0.013603  0.193015]\n"
     ]
    }
   ],
   "source": [
    "for i in range(1, len(In_from0)):\n",
    "    In_from0[i] = np.round(1/i - 5*In_from0[i-1], dec)\n",
    "    pass\n",
    "print(In_from0)"
   ]
  },
  {
   "cell_type": "markdown",
   "metadata": {},
   "source": [
    "显然发现这里计算出现了负数值，计算发生了不稳定现象，这里绘图比较一下："
   ]
  },
  {
   "cell_type": "code",
   "execution_count": 9,
   "metadata": {},
   "outputs": [
    {
     "data": {
      "image/png": "[encoded data removed]",
      "text/plain": [
       "<Figure size 576x360 with 1 Axes>"
      ]
     },
     "metadata": {},
     "output_type": "display_data"
    }
   ],
   "source": [
    "plt.figure(figsize=(8, 5), facecolor=\"white\")\n",
    "plt.scatter(n_range, In_real, s=100, color=\"red\", zorder=10, label=\"real $I_n$\")\n",
    "# plt.plot(n_range, In_real, color=\"blue\", label=\"Connect by line\")\n",
    "plt.plot(n_range, In_from0, color=\"blue\", label=\"recursion from beginning\")\n",
    "plt.legend(loc=\"upper right\", fontsize=15)\n",
    "plt.xlabel(\"$n$\", fontsize=15)\n",
    "plt.ylabel(\"$I_n$\", fontsize=15)\n",
    "plt.grid(True)\n",
    "plt.title(\"Recursion From zero: $n-I_n$\")\n",
    "plt.show()"
   ]
  },
  {
   "cell_type": "markdown",
   "metadata": {},
   "source": [
    "# 从尾开始的递推\n",
    "\n",
    "反过来使用公式如下：\n",
    "\n",
    "$$\n",
    "I_{n-1}=\\frac{1}{5}\\left(\n",
    "    \\frac{1}{n}-I_n\n",
    "\\right)\n",
    "$$\n",
    "\n",
    "我们可以估计一下 $I_8$ 的值如下：\n",
    "\n",
    "$$\n",
    "I_8=\\int_0^1 \\frac{x^8}{x+5} dx\n",
    "$$\n",
    "\n",
    "因此：\n",
    "\n",
    "$$\n",
    "\\frac{1}{6}\\int_0^1 x^8dx \\leq I_8 \\leq \\frac{1}{5}\\int_0^1 x^8 dx\n",
    "$$\n",
    "\n",
    "显然可以估计范围如下：\n",
    "\n",
    "$$\n",
    "I_8 \\in \\left(\n",
    "    \\frac{1}{54},\\frac{1}{45}\n",
    "\\right)\n",
    "$$\n",
    "\n",
    "给出其估计值如下：\n",
    "\n",
    "$$\n",
    "I_8\\approx  \\frac{1}{2}\\left(\\frac{1}{45}+\\frac{1}{54}\\right)=\\frac{11}{18\\times 5\\times 6}\n",
    "$$"
   ]
  },
  {
   "cell_type": "code",
   "execution_count": 10,
   "metadata": {},
   "outputs": [
    {
     "name": "stdout",
     "output_type": "stream",
     "text": [
      "0.02037\n"
     ]
    }
   ],
   "source": [
    "I8 = np.round(11/18/5/6, dec)\n",
    "print(I8)"
   ]
  },
  {
   "cell_type": "markdown",
   "metadata": {},
   "source": [
    "接下来从尾巴处进行递推如下："
   ]
  },
  {
   "cell_type": "code",
   "execution_count": 11,
   "metadata": {},
   "outputs": [
    {
     "name": "stdout",
     "output_type": "stream",
     "text": [
      "[ 0.182322  0.088392  0.058039  0.043138  0.034309  0.028456  0.024386\n",
      "  0.020926  0.020370]\n"
     ]
    }
   ],
   "source": [
    "In_frome = np.zeros(n+1)\n",
    "In_frome[-1] = I8\n",
    "for i in range(1, len(In_frome)):\n",
    "    In_frome[n-i] = np.round((1/(n-i+1) - In_frome[n-i+1])/5, dec)\n",
    "    pass\n",
    "print(In_frome)"
   ]
  },
  {
   "cell_type": "markdown",
   "metadata": {},
   "source": [
    "不难看出，似乎和真实值差的值不算大。。。因此画一下如下"
   ]
  },
  {
   "cell_type": "code",
   "execution_count": 12,
   "metadata": {},
   "outputs": [
    {
     "data": {
      "image/png": "[encoded data removed]",
      "text/plain": [
       "<Figure size 576x360 with 1 Axes>"
      ]
     },
     "metadata": {},
     "output_type": "display_data"
    }
   ],
   "source": [
    "plt.figure(figsize=(8, 5), facecolor=\"white\")\n",
    "plt.scatter(n_range, In_real, s=100, color=\"red\", zorder=10, label=\"real $I_n$\")\n",
    "# plt.plot(n_range, In_real, color=\"blue\", label=\"Connect by line\")\n",
    "plt.plot(n_range, In_frome, color=\"blue\", label=\"recursion from end\")\n",
    "plt.legend(loc=\"upper right\", fontsize=15)\n",
    "plt.xlabel(\"$n$\", fontsize=15)\n",
    "plt.ylabel(\"$I_n$\", fontsize=15)\n",
    "plt.grid(True)\n",
    "plt.title(\"Recursion From end: $n-I_n$\")\n",
    "plt.show()"
   ]
  },
  {
   "cell_type": "markdown",
   "metadata": {},
   "source": [
    "因此上述的计算表明一件事情，那就是采用误差不会放大的递推计算式子才能保证问题计算的精度，负责只会让误差放大到离谱的地步。与兴趣的同学可以更改程序中 `dec` 值，会发现从 $0$ 开始的递推很大程度上取决于 `dec` 的值。"
   ]
  },
  {
   "cell_type": "markdown",
   "metadata": {},
   "source": []
  }
 ],
 "metadata": {
  "kernelspec": {
   "display_name": "Python 3 (ipykernel)",
   "language": "python",
   "name": "python3"
  },
  "language_info": {
   "codemirror_mode": {
    "name": "ipython",
    "version": 3
   },
   "file_extension": ".py",
   "mimetype": "text/x-python",
   "name": "python",
   "nbconvert_exporter": "python",
   "pygments_lexer": "ipython3",
   "version": "3.10.5"
  }
 },
 "nbformat": 4,
 "nbformat_minor": 2
}
